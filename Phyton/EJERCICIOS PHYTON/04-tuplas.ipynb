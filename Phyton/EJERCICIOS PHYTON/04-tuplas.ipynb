{
 "cells": [
  {
   "cell_type": "markdown",
   "metadata": {},
   "source": [
    "<div style=\"text-align: center;\">\n",
    "  <img src=\"https://github.com/Hack-io-Data/Imagenes/blob/main/01-LogosHackio/logo_celeste@4x.png?raw=true\" alt=\"logo hack(io)\" />\n",
    "</div>\n"
   ]
  },
  {
   "cell_type": "markdown",
   "metadata": {},
   "source": [
    "#### 1. Crea una tupla llamada `persona` y asigna a ella los valores 'Juan', 25, 75.5, 1.75."
   ]
  },
  {
   "cell_type": "code",
   "execution_count": 1,
   "metadata": {},
   "outputs": [
    {
     "name": "stdout",
     "output_type": "stream",
     "text": [
      "Tupla persona: ('Juan', 25, 75.5, 1.75)\n"
     ]
    }
   ],
   "source": [
    "persona = ('Juan', 25, 75.5, 1.75)\n",
    "print(\"Tupla persona:\", persona)\n"
   ]
  },
  {
   "cell_type": "markdown",
   "metadata": {},
   "source": [
    "#### 2. Crea una tupla llamada `animal` y asigna a ella los valores 'perro', 'gato', 'conejo'."
   ]
  },
  {
   "cell_type": "code",
   "execution_count": 2,
   "metadata": {},
   "outputs": [
    {
     "name": "stdout",
     "output_type": "stream",
     "text": [
      "Tupla animal: ('perro', 'gato', 'conejo')\n"
     ]
    }
   ],
   "source": [
    "animal = ('perro', 'gato', 'conejo')\n",
    "print(\"Tupla animal:\", animal)"
   ]
  },
  {
   "cell_type": "markdown",
   "metadata": {},
   "source": [
    "#### 3. Obten la longitud de cada tupla y asigna el resultado a una variable llamada `longitud_persona` y `longitud_animal`.\n"
   ]
  },
  {
   "cell_type": "code",
   "execution_count": 4,
   "metadata": {},
   "outputs": [],
   "source": [
    "longitud_persona = len(persona)\n",
    "longitud_animal = len(animal)"
   ]
  },
  {
   "cell_type": "markdown",
   "metadata": {},
   "source": [
    "#### 4. Imprime en pantalla el valor de cada variable utilizando la función print()."
   ]
  },
  {
   "cell_type": "code",
   "execution_count": 5,
   "metadata": {},
   "outputs": [
    {
     "name": "stdout",
     "output_type": "stream",
     "text": [
      "Longitud de la tupla persona: 4\n",
      "Longitud de la tupla animal: 3\n"
     ]
    }
   ],
   "source": [
    "print(\"Longitud de la tupla persona:\", longitud_persona)\n",
    "print(\"Longitud de la tupla animal:\", longitud_animal)"
   ]
  },
  {
   "cell_type": "markdown",
   "metadata": {},
   "source": [
    "#### 5. Convierte la tupla `animal` en una lista. Comprueba que es una lista."
   ]
  },
  {
   "cell_type": "code",
   "execution_count": 6,
   "metadata": {},
   "outputs": [
    {
     "name": "stdout",
     "output_type": "stream",
     "text": [
      "¿Es 'animal_lista' una lista?: True\n",
      "Lista 'animal_lista': ['perro', 'gato', 'conejo']\n"
     ]
    }
   ],
   "source": [
    "animal_lista = list(animal)\n",
    "es_lista = isinstance(animal_lista, list)\n",
    "print(\"¿Es 'animal_lista' una lista?:\", es_lista)\n",
    "print(\"Lista 'animal_lista':\", animal_lista)\n"
   ]
  },
  {
   "cell_type": "markdown",
   "metadata": {},
   "source": [
    "#### 6. Genera una tupla anidada nueva compuesta por la tupla `datos` y la lista `animal`. Asigna el resultado a una variable llamada `anidada`."
   ]
  },
  {
   "cell_type": "code",
   "execution_count": 7,
   "metadata": {},
   "outputs": [
    {
     "name": "stdout",
     "output_type": "stream",
     "text": [
      "Tupla anidada: (('Juan', 25, 75.5, 1.75), ['perro', 'gato', 'conejo'])\n"
     ]
    }
   ],
   "source": [
    "anidada = (persona, animal_lista)\n",
    "print(\"Tupla anidada:\", anidada)"
   ]
  },
  {
   "cell_type": "markdown",
   "metadata": {},
   "source": [
    "#### 7.  Accede al animal 'gato' de la tupla `anidada` e imprímelo en pantalla."
   ]
  },
  {
   "cell_type": "code",
   "execution_count": 8,
   "metadata": {},
   "outputs": [
    {
     "name": "stdout",
     "output_type": "stream",
     "text": [
      "Animal accedido: gato\n"
     ]
    }
   ],
   "source": [
    "gato = anidada[1][1]\n",
    "print(\"Animal accedido:\", gato)"
   ]
  },
  {
   "cell_type": "markdown",
   "metadata": {},
   "source": [
    "#### 8. Crea una tupla donde su unico valor es \"C\"."
   ]
  },
  {
   "cell_type": "code",
   "execution_count": 9,
   "metadata": {},
   "outputs": [
    {
     "name": "stdout",
     "output_type": "stream",
     "text": [
      "Tupla con único valor 'C': ('C',)\n"
     ]
    }
   ],
   "source": [
    "tupla_c = (\"C\",)\n",
    "print(\"Tupla con único valor 'C':\", tupla_c)"
   ]
  },
  {
   "cell_type": "markdown",
   "metadata": {},
   "source": [
    "#### 9. Identifica el tipo de dato de la tupla."
   ]
  },
  {
   "cell_type": "code",
   "execution_count": 10,
   "metadata": {},
   "outputs": [
    {
     "name": "stdout",
     "output_type": "stream",
     "text": [
      "El tipo de dato de 'tupla_c' es: <class 'tuple'>\n"
     ]
    }
   ],
   "source": [
    "tipo_tupla_c = type(tupla_c)\n",
    "print(\"El tipo de dato de 'tupla_c' es:\", tipo_tupla_c)"
   ]
  },
  {
   "cell_type": "markdown",
   "metadata": {},
   "source": [
    "#### 10. Crea una tupla con los siguientes valores: 'o','s','i','n','c','h','i','s'"
   ]
  },
  {
   "cell_type": "code",
   "execution_count": 11,
   "metadata": {},
   "outputs": [
    {
     "name": "stdout",
     "output_type": "stream",
     "text": [
      "Tupla creada: ('o', 's', 'i', 'n', 'c', 'h', 'i', 's')\n"
     ]
    }
   ],
   "source": [
    "tupla_letras = ('o', 's', 'i', 'n', 'c', 'h', 'i', 's')\n",
    "print(\"Tupla creada:\", tupla_letras)"
   ]
  },
  {
   "cell_type": "markdown",
   "metadata": {},
   "source": [
    "#### 11. Crea una tupla que sea la unión de las dos tuplas anteriores y asigna el resultado a una variable llamada `tupla3`.\n"
   ]
  },
  {
   "cell_type": "code",
   "execution_count": 12,
   "metadata": {},
   "outputs": [
    {
     "name": "stdout",
     "output_type": "stream",
     "text": [
      "Tupla3 (unión de las dos tuplas anteriores): ('C', 'o', 's', 'i', 'n', 'c', 'h', 'i', 's')\n"
     ]
    }
   ],
   "source": [
    "tupla3 = tupla_c + tupla_letras\n",
    "print(\"Tupla3 (unión de las dos tuplas anteriores):\", tupla3)"
   ]
  },
  {
   "cell_type": "markdown",
   "metadata": {},
   "source": [
    "#### 12. ¿Cuál es la longitud de las tuplas `tupla1`,`tupla2` y `tupla3`?"
   ]
  },
  {
   "cell_type": "code",
   "execution_count": 13,
   "metadata": {},
   "outputs": [
    {
     "name": "stdout",
     "output_type": "stream",
     "text": [
      "Longitud de tupla1: 1\n",
      "Longitud de tupla2: 8\n",
      "Longitud de tupla3: 9\n"
     ]
    }
   ],
   "source": [
    "longitud_tupla1 = len(tupla_c)\n",
    "longitud_tupla2 = len(tupla_letras)\n",
    "longitud_tupla3 = len(tupla3)\n",
    "\n",
    "print(\"Longitud de tupla1:\", longitud_tupla1)\n",
    "print(\"Longitud de tupla2:\", longitud_tupla2)\n",
    "print(\"Longitud de tupla3:\", longitud_tupla3)\n"
   ]
  },
  {
   "cell_type": "markdown",
   "metadata": {},
   "source": [
    "#### 13. Comprueba que la longitud de la tupla `tupla3` es igual a la suma de las longitudes de las tuplas `tupla1` y `tupla2`.\n"
   ]
  },
  {
   "cell_type": "code",
   "execution_count": 14,
   "metadata": {},
   "outputs": [
    {
     "name": "stdout",
     "output_type": "stream",
     "text": [
      "¿La longitud de tupla3 es igual a la suma de las longitudes de tupla1 y tupla2?: True\n"
     ]
    }
   ],
   "source": [
    "es_igual = longitud_tupla3 == (longitud_tupla1 + longitud_tupla2)\n",
    "print(\"¿La longitud de tupla3 es igual a la suma de las longitudes de tupla1 y tupla2?:\", es_igual)"
   ]
  },
  {
   "cell_type": "markdown",
   "metadata": {},
   "source": [
    "#### 14. Cual es el indice del valor 'h' en la tupla `tupla2`? y en `tupla3`?"
   ]
  },
  {
   "cell_type": "code",
   "execution_count": 16,
   "metadata": {},
   "outputs": [
    {
     "name": "stdout",
     "output_type": "stream",
     "text": [
      "Índice de 'h' en tupla2: 5\n",
      "Índice de 'h' en tupla3: 6\n"
     ]
    }
   ],
   "source": [
    "indice_h_tupla2 = tupla_letras.index('h')\n",
    "indice_h_tupla3 = tupla3.index('h')\n",
    "\n",
    "print(\"Índice de 'h' en tupla2:\", indice_h_tupla2)\n",
    "print(\"Índice de 'h' en tupla3:\", indice_h_tupla3)"
   ]
  }
 ],
 "metadata": {
  "kernelspec": {
   "display_name": "hackio",
   "language": "python",
   "name": "python3"
  },
  "language_info": {
   "codemirror_mode": {
    "name": "ipython",
    "version": 3
   },
   "file_extension": ".py",
   "mimetype": "text/x-python",
   "name": "python",
   "nbconvert_exporter": "python",
   "pygments_lexer": "ipython3",
   "version": "3.12.4"
  }
 },
 "nbformat": 4,
 "nbformat_minor": 2
}
