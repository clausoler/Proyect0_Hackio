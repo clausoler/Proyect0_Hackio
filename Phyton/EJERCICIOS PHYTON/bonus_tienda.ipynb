{
 "cells": [
  {
   "cell_type": "markdown",
   "metadata": {},
   "source": [
    "<div style=\"text-align: center;\">\n",
    "  <img src=\"https://github.com/Hack-io-Data/Imagenes/blob/main/01-LogosHackio/logo_celeste@4x.png?raw=true\" alt=\"esquema\" />\n",
    "</div>\n"
   ]
  },
  {
   "cell_type": "markdown",
   "metadata": {},
   "source": [
    "En este ejercicio, se te pedirá que escribas un programa en Python que utilice condicionales para determinar el monto final de una compra en una tienda en línea, después de aplicar un descuento. El programa debe hacer lo siguiente:\n",
    "\n",
    "1. Solicita al usuario que ingrese el precio original de un artículo.\n",
    "\n",
    "2. Pregunta al usuario si tiene un cupón de descuento (respuesta sí o no).\n",
    "\n",
    "3. Si el usuario responde que sí, solicita que ingrese el valor del cupón de descuento.\n",
    "\n",
    "4. Aplica el descuento al precio original del artículo, siempre y cuando el valor del cupón sea válido (es decir, mayor a cero). Por ejemplo, descuento de 15€. \n",
    "\n",
    "5. Muestra el precio final de la compra, teniendo en cuenta el descuento aplicado o sin él. \n",
    "\n",
    "6. Recuerda utilizar estructuras de control de flujo como if, elif y else para llevar a cabo estas acciones en tu programa de Python."
   ]
  },
  {
   "cell_type": "code",
   "execution_count": 2,
   "metadata": {},
   "outputs": [
    {
     "name": "stdout",
     "output_type": "stream",
     "text": [
      "El precio final de la compra es: 30.00€\n"
     ]
    }
   ],
   "source": [
    "# Programa para calcular el monto final de una compra con posible descuento\n",
    "\n",
    "# Solicitar al usuario que ingrese el precio original del artículo\n",
    "precio_original = float(input(\"Ingrese el precio original del artículo: \"))\n",
    "\n",
    "# Preguntar al usuario si tiene un cupón de descuento\n",
    "tiene_cupon = input(\"¿Tiene un cupón de descuento? (sí o no): \").strip().lower()\n",
    "\n",
    "# Inicializar el valor del descuento\n",
    "descuento = 0\n",
    "\n",
    "# Si el usuario tiene un cupón, solicitar el valor del cupón\n",
    "if tiene_cupon == \"sí\" or tiene_cupon == \"si\":\n",
    "    valor_cupon = float(input(\"Ingrese el valor del cupón de descuento: \"))\n",
    "    if valor_cupon > 0:\n",
    "        descuento = valor_cupon\n",
    "\n",
    "# Calcular el precio final\n",
    "precio_final = precio_original - descuento\n",
    "\n",
    "# Mostrar el precio final de la compra\n",
    "print(f\"El precio final de la compra es: {precio_final:.2f}€\")"
   ]
  },
  {
   "cell_type": "markdown",
   "metadata": {},
   "source": [
    "Modifica el programa anterior para que el usuario ingrese un porcentaje de descuento en lugar de un valor fijo (por ejemplo, 30%). Aplica el descuento en base al porcentaje ingresado."
   ]
  },
  {
   "cell_type": "code",
   "execution_count": 3,
   "metadata": {},
   "outputs": [
    {
     "name": "stdout",
     "output_type": "stream",
     "text": [
      "El precio final de la compra es: 21.00€\n"
     ]
    }
   ],
   "source": [
    "# Programa para calcular el monto final de una compra con descuento en porcentaje\n",
    "\n",
    "# Solicitar al usuario que ingrese el precio original del artículo\n",
    "precio_original = float(input(\"Ingrese el precio original del artículo: \"))\n",
    "\n",
    "# Preguntar al usuario si tiene un cupón de descuento\n",
    "tiene_cupon = input(\"¿Tiene un cupón de descuento? (sí o no): \").strip().lower()\n",
    "\n",
    "# Inicializar el valor del descuento\n",
    "descuento = 0\n",
    "\n",
    "# Si el usuario tiene un cupón, solicitar el porcentaje de descuento\n",
    "if tiene_cupon == \"sí\" or tiene_cupon == \"si\":\n",
    "    porcentaje_descuento = float(input(\"Ingrese el porcentaje de descuento (por ejemplo, 30 para 30%): \"))\n",
    "    if porcentaje_descuento > 0:\n",
    "        descuento = precio_original * (porcentaje_descuento / 100)\n",
    "\n",
    "# Calcular el precio final\n",
    "precio_final = precio_original - descuento\n",
    "\n",
    "# Mostrar el precio final de la compra\n",
    "print(f\"El precio final de la compra es: {precio_final:.2f}€\")"
   ]
  },
  {
   "cell_type": "markdown",
   "metadata": {},
   "source": [
    "Modifica el programa anterior agregando un límite al descuento, donde el descuento mínimo sea del 5% y el máximo del 50%. Si el usuario ingresa un porcentaje fuera de este rango, notifíquele y aplique el descuento mínimo o máximo según sea el caso."
   ]
  },
  {
   "cell_type": "code",
   "execution_count": 4,
   "metadata": {},
   "outputs": [
    {
     "name": "stdout",
     "output_type": "stream",
     "text": [
      "El precio final de la compra es: 47.50€\n"
     ]
    }
   ],
   "source": [
    "# Programa para calcular el monto final de una compra con descuento en porcentaje con límites\n",
    "\n",
    "# Solicitar al usuario que ingrese el precio original del artículo\n",
    "precio_original = float(input(\"Ingrese el precio original del artículo: \"))\n",
    "\n",
    "# Preguntar al usuario si tiene un cupón de descuento\n",
    "tiene_cupon = input(\"¿Tiene un cupón de descuento? (sí o no): \").strip().lower()\n",
    "\n",
    "# Inicializar el valor del descuento\n",
    "descuento = 0\n",
    "\n",
    "# Definir los límites del descuento\n",
    "descuento_minimo = 5\n",
    "descuento_maximo = 50\n",
    "\n",
    "# Si el usuario tiene un cupón, solicitar el porcentaje de descuento\n",
    "if tiene_cupon == \"sí\" or tiene_cupon == \"si\":\n",
    "    porcentaje_descuento = float(input(\"Ingrese el porcentaje de descuento (por ejemplo, 30 para 30%): \"))\n",
    "    \n",
    "    # Verificar si el descuento está dentro de los límites\n",
    "    if porcentaje_descuento < descuento_minimo:\n",
    "        print(f\"El descuento ingresado es menor al {descuento_minimo}%. Se aplicará el descuento mínimo.\")\n",
    "        porcentaje_descuento = descuento_minimo\n",
    "    elif porcentaje_descuento > descuento_maximo:\n",
    "        print(f\"El descuento ingresado es mayor al {descuento_maximo}%. Se aplicará el descuento máximo.\")\n",
    "        porcentaje_descuento = descuento_maximo\n",
    "    \n",
    "    # Calcular el descuento\n",
    "    descuento = precio_original * (porcentaje_descuento / 100)\n",
    "\n",
    "# Calcular el precio final\n",
    "precio_final = precio_original - descuento\n",
    "\n",
    "# Mostrar el precio final de la compra\n",
    "print(f\"El precio final de la compra es: {precio_final:.2f}€\")"
   ]
  },
  {
   "cell_type": "markdown",
   "metadata": {},
   "source": [
    "Crea un programa nuevo que permita al usuario ingresar varios artículos, cada uno con su precio original y cupón de descuento. Aplica los descuentos correspondientes a cada producto y muestra el monto total final de la compra."
   ]
  },
  {
   "cell_type": "code",
   "execution_count": 5,
   "metadata": {},
   "outputs": [
    {
     "name": "stdout",
     "output_type": "stream",
     "text": [
      "El monto total final de la compra es: 45.00€\n"
     ]
    }
   ],
   "source": [
    "# Programa para calcular el monto final de una compra con varios artículos y descuentos\n",
    "\n",
    "# Inicializar el monto total final\n",
    "monto_total_final = 0\n",
    "\n",
    "# Definir los límites del descuento\n",
    "descuento_minimo = 5\n",
    "descuento_maximo = 50\n",
    "\n",
    "# Bucle para ingresar múltiples artículos\n",
    "while True:\n",
    "    # Solicitar al usuario que ingrese el precio original del artículo\n",
    "    precio_original = float(input(\"Ingrese el precio original del artículo: \"))\n",
    "\n",
    "    # Preguntar al usuario si tiene un cupón de descuento\n",
    "    tiene_cupon = input(\"¿Tiene un cupón de descuento para este artículo? (sí o no): \").strip().lower()\n",
    "\n",
    "    # Inicializar el valor del descuento\n",
    "    descuento = 0\n",
    "\n",
    "    # Si el usuario tiene un cupón, solicitar el porcentaje de descuento\n",
    "    if tiene_cupon == \"sí\" or tiene_cupon == \"si\":\n",
    "        porcentaje_descuento = float(input(\"Ingrese el porcentaje de descuento (por ejemplo, 30 para 30%): \"))\n",
    "\n",
    "        # Verificar si el descuento está dentro de los límites\n",
    "        if porcentaje_descuento < descuento_minimo:\n",
    "            print(f\"El descuento ingresado es menor al {descuento_minimo}%. Se aplicará el descuento mínimo.\")\n",
    "            porcentaje_descuento = descuento_minimo\n",
    "        elif porcentaje_descuento > descuento_maximo:\n",
    "            print(f\"El descuento ingresado es mayor al {descuento_maximo}%. Se aplicará el descuento máximo.\")\n",
    "            porcentaje_descuento = descuento_maximo\n",
    "\n",
    "        # Calcular el descuento\n",
    "        descuento = precio_original * (porcentaje_descuento / 100)\n",
    "\n",
    "    # Calcular el precio final para el artículo y sumarlo al monto total\n",
    "    precio_final_articulo = precio_original - descuento\n",
    "    monto_total_final += precio_final_articulo\n",
    "\n",
    "    # Preguntar si se desea agregar otro artículo\n",
    "    continuar = input(\"¿Desea ingresar otro artículo? (sí o no): \").strip().lower()\n",
    "    if continuar != \"sí\" and continuar != \"si\":\n",
    "        break\n",
    "\n",
    "# Mostrar el monto total final de la compra\n",
    "print(f\"El monto total final de la compra es: {monto_total_final:.2f}€\")"
   ]
  },
  {
   "cell_type": "markdown",
   "metadata": {},
   "source": [
    "Crea un nuevo programa que permita aplicar descuentos por categorías. En este caso, nuestra tienda aplicará descuentos en función de la categoría (por ejemplo, electrónica, ropa, juguetes). Pregunta al usuario a que categoría pertenece su producto y aplica el descuento correspondiente a la categoría. Debes solicitar al usuario que ingrese la categoría del articulo y el precio para aplicarle el descuento. "
   ]
  },
  {
   "cell_type": "code",
   "execution_count": 6,
   "metadata": {},
   "outputs": [
    {
     "name": "stdout",
     "output_type": "stream",
     "text": [
      "El descuento aplicado es del 20%.\n",
      "El precio final del artículo es: 48.00€\n"
     ]
    }
   ],
   "source": [
    "# Programa para aplicar descuentos por categorías\n",
    "\n",
    "# Definir los descuentos por categoría\n",
    "descuentos_por_categoria = {\n",
    "    \"electrónica\": 10,  # 10% de descuento\n",
    "    \"ropa\": 20,         # 20% de descuento\n",
    "    \"juguetes\": 15,     # 15% de descuento\n",
    "    \"hogar\": 5          # 5% de descuento\n",
    "}\n",
    "\n",
    "# Solicitar al usuario que ingrese la categoría del artículo\n",
    "categoria = input(\"Ingrese la categoría del artículo (electrónica, ropa, juguetes, hogar): \").strip().lower()\n",
    "\n",
    "# Solicitar al usuario que ingrese el precio original del artículo\n",
    "precio_original = float(input(\"Ingrese el precio original del artículo: \"))\n",
    "\n",
    "# Verificar si la categoría existe y aplicar el descuento correspondiente\n",
    "if categoria in descuentos_por_categoria:\n",
    "    porcentaje_descuento = descuentos_por_categoria[categoria]\n",
    "    descuento = precio_original * (porcentaje_descuento / 100)\n",
    "    precio_final = precio_original - descuento\n",
    "    print(f\"El descuento aplicado es del {porcentaje_descuento}%.\")\n",
    "else:\n",
    "    precio_final = precio_original\n",
    "    print(\"No hay descuentos disponibles para esta categoría.\")\n",
    "\n",
    "# Mostrar el precio final\n",
    "print(f\"El precio final del artículo es: {precio_final:.2f}€\")"
   ]
  },
  {
   "cell_type": "markdown",
   "metadata": {},
   "source": [
    "Crea un nuevo programa que aplique descuentos automáticos en función de la fecha actual. Aplica un descuento del 10% en compras realizadas entre lunes y viernes o un descuento del 15% en compras realizadas durante los fines de semana."
   ]
  },
  {
   "cell_type": "code",
   "execution_count": 8,
   "metadata": {},
   "outputs": [
    {
     "name": "stdout",
     "output_type": "stream",
     "text": [
      "Hoy es entre semana, se aplica un 10% de descuento.\n",
      "El precio final del artículo es: 36.00€\n"
     ]
    }
   ],
   "source": [
    "from datetime import datetime\n",
    "\n",
    "# Obtener el día actual de la semana (0=lunes, 6=domingo)\n",
    "dia_semana = datetime.now().weekday()\n",
    "\n",
    "# Definir el descuento según el día de la semana\n",
    "if dia_semana < 5:  # Lunes a Viernes (0-4)\n",
    "    descuento = 10\n",
    "else:  # Sábado y Domingo (5-6)\n",
    "    descuento = 15\n",
    "\n",
    "# Solicitar al usuario que ingrese el precio original del artículo\n",
    "precio_original = float(input(\"Ingrese el precio original del artículo: \"))\n",
    "\n",
    "# Calcular el precio final con el descuento\n",
    "descuento_aplicado = precio_original * (descuento / 100)\n",
    "precio_final = precio_original - descuento_aplicado\n",
    "\n",
    "# Mostrar el resultado\n",
    "print(f\"Hoy es {'entre semana' if dia_semana < 5 else 'fin de semana'}, se aplica un {descuento}% de descuento.\")\n",
    "print(f\"El precio final del artículo es: {precio_final:.2f}€\")\n"
   ]
  },
  {
   "cell_type": "markdown",
   "metadata": {},
   "source": [
    "Crea un programa nuevo que implemente un sistema de membresía donde los usuarios registrados obtengan un descuento adicional del 5%. Solicita al usuario que ingrese su nombre de usuario y contraseña para verificar su membresía y aplique el descuento adicional si corresponde. \n",
    "\n",
    "📝 Nota: Para este ejercicio solo tendremos un usuario registrado. El usuario es `USUARIO` y la contraseña es  `USUARIO123`. \n"
   ]
  },
  {
   "cell_type": "code",
   "execution_count": 9,
   "metadata": {},
   "outputs": [
    {
     "name": "stdout",
     "output_type": "stream",
     "text": [
      "¡Bienvenido, usuario registrado! Se aplicará un descuento adicional del 5%.\n",
      "El precio final del artículo es: 25.50€\n"
     ]
    }
   ],
   "source": [
    "# Programa para aplicar descuentos con un sistema de membresía\n",
    "\n",
    "# Definir las credenciales del usuario registrado\n",
    "usuario_registrado = \"USUARIO\"\n",
    "contrasena_registrada = \"USUARIO123\"\n",
    "\n",
    "# Solicitar el nombre de usuario\n",
    "usuario = input(\"Ingrese su nombre de usuario: \").strip()\n",
    "\n",
    "# Solicitar la contraseña\n",
    "contrasena = input(\"Ingrese su contraseña: \").strip()\n",
    "\n",
    "# Verificar si el usuario y la contraseña son correctos\n",
    "membresia_activa = False\n",
    "if usuario == usuario_registrado and contrasena == contrasena_registrada:\n",
    "    membresia_activa = True\n",
    "    print(\"¡Bienvenido, usuario registrado! Se aplicará un descuento adicional del 5%.\")\n",
    "\n",
    "# Obtener el día actual de la semana (0=lunes, 6=domingo)\n",
    "from datetime import datetime\n",
    "dia_semana = datetime.now().weekday()\n",
    "\n",
    "# Definir el descuento según el día de la semana\n",
    "if dia_semana < 5:  # Lunes a Viernes (0-4)\n",
    "    descuento = 10\n",
    "else:  # Sábado y Domingo (5-6)\n",
    "    descuento = 15\n",
    "\n",
    "# Solicitar el precio original del artículo\n",
    "precio_original = float(input(\"Ingrese el precio original del artículo: \"))\n",
    "\n",
    "# Calcular el descuento inicial según el día\n",
    "descuento_aplicado = precio_original * (descuento / 100)\n",
    "\n",
    "# Aplicar el descuento adicional si el usuario tiene membresía activa\n",
    "if membresia_activa:\n",
    "    descuento_adicional = precio_original * 0.05\n",
    "    descuento_aplicado += descuento_adicional\n",
    "\n",
    "# Calcular el precio final\n",
    "precio_final = precio_original - descuento_aplicado\n",
    "\n",
    "# Mostrar el precio final\n",
    "print(f\"El precio final del artículo es: {precio_final:.2f}€\")"
   ]
  },
  {
   "cell_type": "markdown",
   "metadata": {},
   "source": [
    "Crea un nuevo programa que ofrezca un descuento del 10% adicional si el usuario compra más de 5 artículos del mismo tipo. Debes verificar la cantidad de productos comprados y aplicar el descuento adicional si corresponde.\n"
   ]
  },
  {
   "cell_type": "code",
   "execution_count": 10,
   "metadata": {},
   "outputs": [
    {
     "name": "stdout",
     "output_type": "stream",
     "text": [
      "Se aplicará un descuento adicional del 10% por comprar más de 5 artículos.\n",
      "El precio final por 6 artículos es: 43.20€\n"
     ]
    }
   ],
   "source": [
    "# Programa para aplicar un descuento adicional si se compran más de 5 artículos del mismo tipo\n",
    "\n",
    "# Solicitar al usuario que ingrese el tipo de artículo\n",
    "tipo_articulo = input(\"Ingrese el tipo de artículo: \").strip()\n",
    "\n",
    "# Solicitar al usuario que ingrese el precio unitario del artículo\n",
    "precio_unitario = float(input(\"Ingrese el precio unitario del artículo: \"))\n",
    "\n",
    "# Solicitar al usuario que ingrese la cantidad de artículos comprados\n",
    "cantidad_articulos = int(input(\"Ingrese la cantidad de artículos comprados: \"))\n",
    "\n",
    "# Calcular el precio total sin descuento\n",
    "precio_total = precio_unitario * cantidad_articulos\n",
    "\n",
    "# Verificar si se debe aplicar el descuento adicional del 10%\n",
    "if cantidad_articulos > 5:\n",
    "    descuento_adicional = precio_total * 0.10\n",
    "    print(\"Se aplicará un descuento adicional del 10% por comprar más de 5 artículos.\")\n",
    "else:\n",
    "    descuento_adicional = 0\n",
    "\n",
    "# Calcular el precio final\n",
    "precio_final = precio_total - descuento_adicional\n",
    "\n",
    "# Mostrar el precio final\n",
    "print(f\"El precio final por {cantidad_articulos} artículos es: {precio_final:.2f}€\")"
   ]
  },
  {
   "cell_type": "markdown",
   "metadata": {},
   "source": [
    "Crea un nuevo programa que ofrezca descuentos progresivos en función del volumen de compra. Aplica un descuento del 5% para compras entre 100€ y 200€, un descuento del 10% para compras entre 200€ y 500€ y un descuento del 15% para compras superiores a 500€."
   ]
  },
  {
   "cell_type": "code",
   "execution_count": 11,
   "metadata": {},
   "outputs": [
    {
     "name": "stdout",
     "output_type": "stream",
     "text": [
      "Se aplica un descuento del 15%.\n",
      "El precio final de la compra es: 425.00€\n"
     ]
    }
   ],
   "source": [
    "# Programa para aplicar descuentos progresivos en función del volumen de compra\n",
    "\n",
    "# Solicitar al usuario que ingrese el precio total de la compra\n",
    "precio_total = float(input(\"Ingrese el precio total de la compra: \"))\n",
    "\n",
    "# Inicializar el descuento\n",
    "descuento = 0\n",
    "\n",
    "# Aplicar los descuentos progresivos según el volumen de compra\n",
    "if 100 <= precio_total < 200:\n",
    "    descuento = 5  # 5% de descuento\n",
    "elif 200 <= precio_total < 500:\n",
    "    descuento = 10  # 10% de descuento\n",
    "elif precio_total >= 500:\n",
    "    descuento = 15  # 15% de descuento\n",
    "\n",
    "# Calcular el precio final con el descuento\n",
    "descuento_aplicado = precio_total * (descuento / 100)\n",
    "precio_final = precio_total - descuento_aplicado\n",
    "\n",
    "# Mostrar el resultado\n",
    "print(f\"Se aplica un descuento del {descuento}%.\")\n",
    "print(f\"El precio final de la compra es: {precio_final:.2f}€\")"
   ]
  },
  {
   "cell_type": "markdown",
   "metadata": {},
   "source": [
    "Crea un nuevo programa  que ofrezca un descuento adicional del 3% si el usuario paga con tarjeta de crédito o débito. Solicita al usuario que ingrese el método de pago y el descuento original, por último aplica el descuento si corresponde."
   ]
  },
  {
   "cell_type": "code",
   "execution_count": 14,
   "metadata": {},
   "outputs": [
    {
     "name": "stdout",
     "output_type": "stream",
     "text": [
      "Se aplicará un descuento adicional del 3% por pagar con tarjeta.\n",
      "El precio final de la compra es: 47.00€\n"
     ]
    }
   ],
   "source": [
    "# Programa para aplicar un descuento adicional si se paga con tarjeta de crédito o débito\n",
    "\n",
    "# Solicitar al usuario que ingrese el método de pago\n",
    "metodo_pago = input(\"Ingrese el método de pago (tarjeta de crédito, tarjeta de débito, efectivo): \").strip().lower()\n",
    "\n",
    "# Solicitar al usuario que ingrese el descuento original (en porcentaje) sin el símbolo %\n",
    "descuento_original = float(input(\"Ingrese el descuento original aplicado (en porcentaje, sin %): \"))\n",
    "\n",
    "# Solicitar al usuario que ingrese el precio total de la compra\n",
    "precio_total = float(input(\"Ingrese el precio total de la compra: \"))\n",
    "\n",
    "# Aplicar el descuento original\n",
    "descuento_aplicado = precio_total * (descuento_original / 100)\n",
    "\n",
    "# Aplicar un descuento adicional del 3% si el pago es con tarjeta de crédito o débito\n",
    "if metodo_pago == \"tarjeta de crédito\" or metodo_pago == \"tarjeta de débito\":\n",
    "    print(\"Se aplicará un descuento adicional del 3% por pagar con tarjeta.\")\n",
    "    descuento_adicional = precio_total * 0.03\n",
    "    descuento_aplicado += descuento_adicional\n",
    "\n",
    "# Calcular el precio final\n",
    "precio_final = precio_total - descuento_aplicado\n",
    "\n",
    "# Mostrar el precio final\n",
    "print(f\"El precio final de la compra es: {precio_final:.2f}€\")"
   ]
  }
 ],
 "metadata": {
  "kernelspec": {
   "display_name": "hackio",
   "language": "python",
   "name": "python3"
  },
  "language_info": {
   "codemirror_mode": {
    "name": "ipython",
    "version": 3
   },
   "file_extension": ".py",
   "mimetype": "text/x-python",
   "name": "python",
   "nbconvert_exporter": "python",
   "pygments_lexer": "ipython3",
   "version": "3.12.4"
  }
 },
 "nbformat": 4,
 "nbformat_minor": 2
}
