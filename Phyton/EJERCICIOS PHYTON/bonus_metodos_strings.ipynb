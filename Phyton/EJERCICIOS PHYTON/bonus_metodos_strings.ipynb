{
 "cells": [
  {
   "cell_type": "markdown",
   "metadata": {},
   "source": [
    "<div style=\"text-align: center;\">\n",
    "  <img src=\"https://github.com/Hack-io-Data/Imagenes/blob/main/01-LogosHackio/logo_celeste@4x.png?raw=true\" alt=\"esquema\" />\n",
    "</div>"
   ]
  },
  {
   "cell_type": "markdown",
   "metadata": {},
   "source": [
    "\n",
    "#### Genera un dicionario con los nombres, apellidos y empresas de la siguinete lista de correos. \n",
    "\n",
    "Te deberá quedar un diccionario parecido al que se muestra a continuación: \n",
    "\n",
    "![resultado](https://github.com/Hack-io-Data/Imagenes/blob/main/04-Prework/Python/diccionario-bonus-strings.png?raw=true)"
   ]
  },
  {
   "cell_type": "code",
   "execution_count": 8,
   "metadata": {},
   "outputs": [],
   "source": [
    "a = \"\"\"john.doe@tecnologiainnovadora.com\n",
    "jane.doe@empresatecnologica.com\n",
    "jim.smith@solucionesdigitales.com\n",
    "mary.jane@tecnologiapionera.com\n",
    "bob.jones@innovaciontecnologica.com\n",
    "alice.smith@desarrollotecnologico.com\n",
    "tom.jones@tecnologiadinamica.com\n",
    "sally.jones@tecnologiamoderna.com\n",
    "jerry.smith@solucionestech.com\n",
    "beth.jones@tecnologiavanguardista.com\n",
    "john.smith@tecnologiasavanzadas.com\n",
    "jane.doe@empresadigital.com\n",
    "jim.jones@tecnologiadinamica.com\n",
    "mary.smith@innovaciondigital.com\n",
    "bob.doe@solucionesinformaticas.com\n",
    "\"\"\"\n"
   ]
  },
  {
   "cell_type": "code",
   "execution_count": 1,
   "metadata": {},
   "outputs": [
    {
     "name": "stdout",
     "output_type": "stream",
     "text": [
      "{'alice.smith@desarrollotecnologico.com': {'apellido': 'Smith',\n",
      "                                           'empresa': 'Desarrollotecnologico',\n",
      "                                           'nombre': 'Alice'},\n",
      " 'beth.jones@tecnologiavanguardista.com': {'apellido': 'Jones',\n",
      "                                           'empresa': 'Tecnologiavanguardista',\n",
      "                                           'nombre': 'Beth'},\n",
      " 'bob.doe@solucionesinformaticas.com': {'apellido': 'Doe',\n",
      "                                        'empresa': 'Solucionesinformaticas',\n",
      "                                        'nombre': 'Bob'},\n",
      " 'bob.jones@innovaciontecnologica.com': {'apellido': 'Jones',\n",
      "                                         'empresa': 'Innovaciontecnologica',\n",
      "                                         'nombre': 'Bob'},\n",
      " 'jane.doe@empresadigital.com': {'apellido': 'Doe',\n",
      "                                 'empresa': 'Empresadigital',\n",
      "                                 'nombre': 'Jane'},\n",
      " 'jane.doe@empresatecnologica.com': {'apellido': 'Doe',\n",
      "                                     'empresa': 'Empresatecnologica',\n",
      "                                     'nombre': 'Jane'},\n",
      " 'jerry.smith@solucionestech.com': {'apellido': 'Smith',\n",
      "                                    'empresa': 'Solucionestech',\n",
      "                                    'nombre': 'Jerry'},\n",
      " 'jim.jones@tecnologiadinamica.com': {'apellido': 'Jones',\n",
      "                                      'empresa': 'Tecnologiadinamica',\n",
      "                                      'nombre': 'Jim'},\n",
      " 'jim.smith@solucionesdigitales.com': {'apellido': 'Smith',\n",
      "                                       'empresa': 'Solucionesdigitales',\n",
      "                                       'nombre': 'Jim'},\n",
      " 'john.doe@tecnologiainnovadora.com': {'apellido': 'Doe',\n",
      "                                       'empresa': 'Tecnologiainnovadora',\n",
      "                                       'nombre': 'John'},\n",
      " 'john.smith@tecnologiasavanzadas.com': {'apellido': 'Smith',\n",
      "                                         'empresa': 'Tecnologiasavanzadas',\n",
      "                                         'nombre': 'John'},\n",
      " 'mary.jane@tecnologiapionera.com': {'apellido': 'Jane',\n",
      "                                     'empresa': 'Tecnologiapionera',\n",
      "                                     'nombre': 'Mary'},\n",
      " 'mary.smith@innovaciondigital.com': {'apellido': 'Smith',\n",
      "                                      'empresa': 'Innovaciondigital',\n",
      "                                      'nombre': 'Mary'},\n",
      " 'sally.jones@tecnologiamoderna.com': {'apellido': 'Jones',\n",
      "                                       'empresa': 'Tecnologiamoderna',\n",
      "                                       'nombre': 'Sally'},\n",
      " 'tom.jones@tecnologiadinamica.com': {'apellido': 'Jones',\n",
      "                                      'empresa': 'Tecnologiadinamica',\n",
      "                                      'nombre': 'Tom'}}\n"
     ]
    }
   ],
   "source": [
    "# Definir la lista de correos\n",
    "correos = \"\"\"\n",
    "john.doe@tecnologiainnovadora.com\n",
    "jane.doe@empresatecnologica.com\n",
    "jim.smith@solucionesdigitales.com\n",
    "mary.jane@tecnologiapionera.com\n",
    "bob.jones@innovaciontecnologica.com\n",
    "alice.smith@desarrollotecnologico.com\n",
    "tom.jones@tecnologiadinamica.com\n",
    "sally.jones@tecnologiamoderna.com\n",
    "jerry.smith@solucionestech.com\n",
    "beth.jones@tecnologiavanguardista.com\n",
    "john.smith@tecnologiasavanzadas.com\n",
    "jane.doe@empresadigital.com\n",
    "jim.jones@tecnologiadinamica.com\n",
    "mary.smith@innovaciondigital.com\n",
    "bob.doe@solucionesinformaticas.com\n",
    "\"\"\"\n",
    "\n",
    "# Crear un diccionario para almacenar los datos\n",
    "diccionario_correos = {}\n",
    "\n",
    "# Procesar cada correo\n",
    "for correo in correos.splitlines():\n",
    "    if correo:  # Ignorar líneas vacías\n",
    "        nombre_apellido, empresa = correo.split(\"@\")\n",
    "        nombre, apellido = nombre_apellido.split(\".\")\n",
    "        empresa = empresa.split(\".\")[0]\n",
    "        \n",
    "        diccionario_correos[correo] = {\n",
    "            \"nombre\": nombre.capitalize(),\n",
    "            \"apellido\": apellido.capitalize(),\n",
    "            \"empresa\": empresa.capitalize()\n",
    "        }\n",
    "\n",
    "# Imprimir el diccionario generado de manera similar a la imagen de referencia\n",
    "import pprint\n",
    "pprint.pprint(diccionario_correos)\n"
   ]
  }
 ],
 "metadata": {
  "kernelspec": {
   "display_name": "hackio",
   "language": "python",
   "name": "python3"
  },
  "language_info": {
   "codemirror_mode": {
    "name": "ipython",
    "version": 3
   },
   "file_extension": ".py",
   "mimetype": "text/x-python",
   "name": "python",
   "nbconvert_exporter": "python",
   "pygments_lexer": "ipython3",
   "version": "3.12.4"
  }
 },
 "nbformat": 4,
 "nbformat_minor": 2
}
