{
 "cells": [
  {
   "cell_type": "markdown",
   "metadata": {},
   "source": [
    "\n",
    "<div style=\"text-align: center;\">\n",
    "  <img src=\"https://github.com/Hack-io-Data/Imagenes/blob/main/01-LogosHackio/logo_celeste@4x.png?raw=true\" alt=\"esquema\" />\n",
    "</div>"
   ]
  },
  {
   "cell_type": "markdown",
   "metadata": {},
   "source": [
    "#### 1. Escribe una función sin parámetros que imprima el siguiente mensaje \"¡Hola! Bienvenido.\"\n"
   ]
  },
  {
   "cell_type": "code",
   "execution_count": 1,
   "metadata": {},
   "outputs": [
    {
     "name": "stdout",
     "output_type": "stream",
     "text": [
      "¡Hola! Bienvenido.\n"
     ]
    }
   ],
   "source": [
    "# Definir una función sin parámetros que imprima un mensaje\n",
    "def saludo():\n",
    "    print(\"¡Hola! Bienvenido.\")\n",
    "\n",
    "# Llamar a la función\n",
    "saludo()"
   ]
  },
  {
   "cell_type": "markdown",
   "metadata": {},
   "source": [
    "#### 2. Escribe una función que reciba dos parámetros y devuelva la suma de ambos.\n"
   ]
  },
  {
   "cell_type": "code",
   "execution_count": 2,
   "metadata": {},
   "outputs": [
    {
     "data": {
      "text/plain": [
       "8"
      ]
     },
     "execution_count": 2,
     "metadata": {},
     "output_type": "execute_result"
    }
   ],
   "source": [
    "# Definir una función que reciba dos parámetros y devuelva la suma de ambos\n",
    "def sumar(a, b):\n",
    "    return a + b\n",
    "\n",
    "# Ejemplo de uso de la función\n",
    "resultado = sumar(3, 5)\n",
    "resultado"
   ]
  },
  {
   "cell_type": "markdown",
   "metadata": {},
   "source": [
    "#### 3. Escribe una función que reciba un número y devuelva True si es par, False si no lo es."
   ]
  },
  {
   "cell_type": "code",
   "execution_count": 3,
   "metadata": {},
   "outputs": [
    {
     "data": {
      "text/plain": [
       "True"
      ]
     },
     "execution_count": 3,
     "metadata": {},
     "output_type": "execute_result"
    }
   ],
   "source": [
    "# Definir una función que reciba un número y devuelva True si es par, False si no lo es\n",
    "def es_par(numero):\n",
    "    return numero % 2 == 0\n",
    "\n",
    "# Ejemplo de uso de la función\n",
    "resultado = es_par(4)  # Debería devolver True\n",
    "resultado"
   ]
  },
  {
   "cell_type": "markdown",
   "metadata": {},
   "source": [
    "#### 4. Escribe un función que devuelva un saludo personalizado a una persona dado su nombre. \n"
   ]
  },
  {
   "cell_type": "code",
   "execution_count": 5,
   "metadata": {},
   "outputs": [
    {
     "data": {
      "text/plain": [
       "'¡Hola, Ana! Bienvenida.'"
      ]
     },
     "execution_count": 5,
     "metadata": {},
     "output_type": "execute_result"
    }
   ],
   "source": [
    "# Definir una función que devuelva un saludo personalizado dado un nombre\n",
    "def saludo_personalizado(nombre):\n",
    "    return f\"¡Hola, {nombre}! Bienvenida.\"\n",
    "\n",
    "# Ejemplo de uso de la función\n",
    "saludo = saludo_personalizado(\"Ana\")\n",
    "saludo"
   ]
  },
  {
   "cell_type": "markdown",
   "metadata": {},
   "source": [
    "#### 5. Escribe una función que sume todos los números que reciba como argumento. La función debe recibir una cantidad variable de argumentos y devolver la suma de todos ellos."
   ]
  },
  {
   "cell_type": "code",
   "execution_count": 6,
   "metadata": {},
   "outputs": [
    {
     "data": {
      "text/plain": [
       "15"
      ]
     },
     "execution_count": 6,
     "metadata": {},
     "output_type": "execute_result"
    }
   ],
   "source": [
    "# Definir una función que sume todos los números que reciba como argumento\n",
    "def sumar_todos(*numeros):\n",
    "    return sum(numeros)\n",
    "\n",
    "# Ejemplo de uso de la función\n",
    "resultado = sumar_todos(1, 2, 3, 4, 5)\n",
    "resultado"
   ]
  },
  {
   "cell_type": "markdown",
   "metadata": {},
   "source": [
    "#### 6. Escribe una función que cuente las letras de una palabra y devuelva un diccionario con la cantidad de veces que se repite cada letra \n"
   ]
  },
  {
   "cell_type": "code",
   "execution_count": 7,
   "metadata": {},
   "outputs": [
    {
     "data": {
      "text/plain": [
       "{'p': 1, 'r': 2, 'o': 2, 'g': 1, 'a': 2, 'm': 1, 'c': 1, 'i': 1, 'n': 1}"
      ]
     },
     "execution_count": 7,
     "metadata": {},
     "output_type": "execute_result"
    }
   ],
   "source": [
    "# Definir una función que cuente las letras de una palabra y devuelva un diccionario\n",
    "def contar_letras(palabra):\n",
    "    contador = {}\n",
    "    for letra in palabra:\n",
    "        if letra in contador:\n",
    "            contador[letra] += 1\n",
    "        else:\n",
    "            contador[letra] = 1\n",
    "    return contador\n",
    "\n",
    "# Ejemplo de uso de la función\n",
    "resultado = contar_letras(\"programacion\")\n",
    "resultado"
   ]
  },
  {
   "cell_type": "markdown",
   "metadata": {},
   "source": [
    "#### 7. Escribe un función recursiva para calcular el factorial de un número entero no negativo."
   ]
  },
  {
   "cell_type": "code",
   "execution_count": 8,
   "metadata": {},
   "outputs": [
    {
     "data": {
      "text/plain": [
       "120"
      ]
     },
     "execution_count": 8,
     "metadata": {},
     "output_type": "execute_result"
    }
   ],
   "source": [
    "# Definir una función recursiva para calcular el factorial de un número entero no negativo\n",
    "def factorial(n):\n",
    "    if n == 0 or n == 1:\n",
    "        return 1\n",
    "    else:\n",
    "        return n * factorial(n - 1)\n",
    "\n",
    "# Ejemplo de uso de la función\n",
    "resultado = factorial(5)\n",
    "resultado"
   ]
  },
  {
   "cell_type": "markdown",
   "metadata": {},
   "source": [
    "#### 8. Escribe una función que tome dos parámetros: `figura` (una cadena que puede ser `\"rectangulo\"`, `\"circulo\"` o `\"triangulo\"`) y `datos` (una tupla con los datos necesarios para calcular el área de la figura). "
   ]
  },
  {
   "cell_type": "code",
   "execution_count": 9,
   "metadata": {},
   "outputs": [
    {
     "data": {
      "text/plain": [
       "(50, 153.93804002589985, 24.0)"
      ]
     },
     "execution_count": 9,
     "metadata": {},
     "output_type": "execute_result"
    }
   ],
   "source": [
    "import math\n",
    "\n",
    "def calcular_area(figura, datos):\n",
    "    if figura == \"rectangulo\":\n",
    "        # Para el rectángulo, la tupla 'datos' debe contener (base, altura)\n",
    "        base, altura = datos\n",
    "        return base * altura\n",
    "    elif figura == \"circulo\":\n",
    "        # Para el círculo, la tupla 'datos' debe contener (radio,)\n",
    "        radio, = datos\n",
    "        return math.pi * radio ** 2\n",
    "    elif figura == \"triangulo\":\n",
    "        # Para el triángulo, la tupla 'datos' debe contener (base, altura)\n",
    "        base, altura = datos\n",
    "        return (base * altura) / 2\n",
    "    else:\n",
    "        return \"Figura no soportada\"\n",
    "\n",
    "# Ejemplo de uso de la función\n",
    "area_rectangulo = calcular_area(\"rectangulo\", (5, 10))\n",
    "area_circulo = calcular_area(\"circulo\", (7,))\n",
    "area_triangulo = calcular_area(\"triangulo\", (6, 8))\n",
    "\n",
    "area_rectangulo, area_circulo, area_triangulo"
   ]
  },
  {
   "cell_type": "markdown",
   "metadata": {},
   "source": [
    "#### 9. Escribe una función que tome una lista de números como parámetro y devuelva el número más grande de la lista. No utilices la función `max()` de Python en tu solución."
   ]
  },
  {
   "cell_type": "code",
   "execution_count": 10,
   "metadata": {},
   "outputs": [
    {
     "data": {
      "text/plain": [
       "89"
      ]
     },
     "execution_count": 10,
     "metadata": {},
     "output_type": "execute_result"
    }
   ],
   "source": [
    "# Definir una función que encuentre el número más grande en una lista sin usar max()\n",
    "def numero_mas_grande(lista_numeros):\n",
    "    if not lista_numeros:  # Verificar si la lista está vacía\n",
    "        return None\n",
    "\n",
    "    # Inicializar el mayor número con el primer elemento de la lista\n",
    "    mayor_numero = lista_numeros[0]\n",
    "\n",
    "    # Recorrer la lista para encontrar el mayor número\n",
    "    for numero in lista_numeros:\n",
    "        if numero > mayor_numero:\n",
    "            mayor_numero = numero\n",
    "\n",
    "    return mayor_numero\n",
    "\n",
    "# Ejemplo de uso de la función\n",
    "resultado = numero_mas_grande([10, 23, 5, 89, 50])\n",
    "resultado"
   ]
  },
  {
   "cell_type": "markdown",
   "metadata": {},
   "source": [
    "#### 10. Escribe una función que tome una cadena como parámetro un texto y devuelva `True` si la cadena es un palíndromo (se lee igual de izquierda a derecha que de derecha a izquierda), y `False` en caso contrario. Ignora los espacios y considera mayúsculas y minúsculas de manera insensible.\n"
   ]
  },
  {
   "cell_type": "code",
   "execution_count": 11,
   "metadata": {},
   "outputs": [
    {
     "data": {
      "text/plain": [
       "True"
      ]
     },
     "execution_count": 11,
     "metadata": {},
     "output_type": "execute_result"
    }
   ],
   "source": [
    "# Definir una función que verifique si una cadena es un palíndromo\n",
    "def es_palindromo(cadena):\n",
    "    # Convertir la cadena a minúsculas y eliminar los espacios\n",
    "    cadena_limpia = cadena.replace(\" \", \"\").lower()\n",
    "    \n",
    "    # Verificar si la cadena es igual a su inverso\n",
    "    return cadena_limpia == cadena_limpia[::-1]\n",
    "\n",
    "# Ejemplo de uso de la función\n",
    "resultado = es_palindromo(\"Anita lava la tina\")\n",
    "resultado"
   ]
  },
  {
   "cell_type": "markdown",
   "metadata": {},
   "source": [
    "#### 11. Escribe una función que tome una cadena como parámetro y devuelva dos valores: la cantidad de vocales y la cantidad de consonantes presentes en la cadena. Ignora los espacios y considera mayúsculas y minúsculas de manera insensible.\n"
   ]
  },
  {
   "cell_type": "code",
   "execution_count": 12,
   "metadata": {},
   "outputs": [
    {
     "data": {
      "text/plain": [
       "(4, 5)"
      ]
     },
     "execution_count": 12,
     "metadata": {},
     "output_type": "execute_result"
    }
   ],
   "source": [
    "# Definir una función que cuente vocales y consonantes en una cadena\n",
    "def contar_vocales_consonantes(cadena):\n",
    "    # Definir las vocales\n",
    "    vocales = \"aeiou\"\n",
    "    \n",
    "    # Inicializar contadores\n",
    "    cuenta_vocales = 0\n",
    "    cuenta_consonantes = 0\n",
    "    \n",
    "    # Convertir la cadena a minúsculas y eliminar espacios\n",
    "    cadena_limpia = cadena.replace(\" \", \"\").lower()\n",
    "    \n",
    "    # Recorrer cada carácter de la cadena limpia\n",
    "    for letra in cadena_limpia:\n",
    "        if letra.isalpha():  # Verificar si es una letra\n",
    "            if letra in vocales:\n",
    "                cuenta_vocales += 1\n",
    "            else:\n",
    "                cuenta_consonantes += 1\n",
    "    \n",
    "    return cuenta_vocales, cuenta_consonantes\n",
    "\n",
    "# Ejemplo de uso de la función\n",
    "vocales, consonantes = contar_vocales_consonantes(\"Hola Mundo\")\n",
    "vocales, consonantes"
   ]
  }
 ],
 "metadata": {
  "kernelspec": {
   "display_name": "hackio",
   "language": "python",
   "name": "python3"
  },
  "language_info": {
   "codemirror_mode": {
    "name": "ipython",
    "version": 3
   },
   "file_extension": ".py",
   "mimetype": "text/x-python",
   "name": "python",
   "nbconvert_exporter": "python",
   "pygments_lexer": "ipython3",
   "version": "3.12.4"
  }
 },
 "nbformat": 4,
 "nbformat_minor": 2
}
