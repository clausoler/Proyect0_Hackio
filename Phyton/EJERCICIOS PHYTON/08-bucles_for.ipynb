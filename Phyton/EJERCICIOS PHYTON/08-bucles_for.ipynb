{
 "cells": [
  {
   "cell_type": "markdown",
   "metadata": {},
   "source": [
    "<div style=\"text-align: center;\">\n",
    "  <img src=\"https://github.com/Hack-io-Data/Imagenes/blob/main/01-LogosHackio/logo_celeste@4x.png?raw=true\" alt=\"logo hack(io)\" />\n",
    "</div>"
   ]
  },
  {
   "cell_type": "markdown",
   "metadata": {},
   "source": [
    "####  1. Genera una lista de números del 0 al 4 y luego imprime cada número en la lista usando un `bucle for`. "
   ]
  },
  {
   "cell_type": "code",
   "execution_count": 1,
   "metadata": {},
   "outputs": [
    {
     "name": "stdout",
     "output_type": "stream",
     "text": [
      "0\n",
      "1\n",
      "2\n",
      "3\n",
      "4\n"
     ]
    }
   ],
   "source": [
    "# Generar una lista de números del 0 al 4\n",
    "numeros = list(range(5))\n",
    "\n",
    "# Imprimir cada número en la lista usando un bucle for\n",
    "for numero in numeros:\n",
    "    print(numero)\n"
   ]
  },
  {
   "cell_type": "markdown",
   "metadata": {},
   "source": [
    "#### 2. Itera sobre una lista de frutas y muestra cada fruta en mayúsculas. \n"
   ]
  },
  {
   "cell_type": "code",
   "execution_count": 2,
   "metadata": {},
   "outputs": [
    {
     "name": "stdout",
     "output_type": "stream",
     "text": [
      "MANZANA\n",
      "BANANA\n",
      "NARANJA\n",
      "UVA\n",
      "PERA\n"
     ]
    }
   ],
   "source": [
    "# Definir una lista de frutas\n",
    "frutas = [\"manzana\", \"banana\", \"naranja\", \"uva\", \"pera\"]\n",
    "\n",
    "# Iterar sobre la lista de frutas y mostrar cada fruta en mayúsculas\n",
    "for fruta in frutas:\n",
    "    print(fruta.upper())\n"
   ]
  },
  {
   "cell_type": "markdown",
   "metadata": {},
   "source": [
    "####  3. Genera un bucle while que imprima los números del 0 al 4. \n"
   ]
  },
  {
   "cell_type": "code",
   "execution_count": 3,
   "metadata": {},
   "outputs": [
    {
     "name": "stdout",
     "output_type": "stream",
     "text": [
      "0\n",
      "1\n",
      "2\n",
      "3\n",
      "4\n"
     ]
    }
   ],
   "source": [
    "# Inicializar la variable contador\n",
    "contador = 0\n",
    "\n",
    "# Generar un bucle while que imprima los números del 0 al 4\n",
    "while contador <= 4:\n",
    "    print(contador)\n",
    "    contador += 1\n",
    "\n"
   ]
  },
  {
   "cell_type": "markdown",
   "metadata": {},
   "source": [
    "#### 4. Genera un bucle del 0 al 9, pero que se detenga en el 5.\n"
   ]
  },
  {
   "cell_type": "code",
   "execution_count": 4,
   "metadata": {},
   "outputs": [
    {
     "name": "stdout",
     "output_type": "stream",
     "text": [
      "0\n",
      "1\n",
      "2\n",
      "3\n",
      "4\n"
     ]
    }
   ],
   "source": [
    "# Generar un bucle del 0 al 9, pero que se detenga en el 5\n",
    "for numero in range(10):\n",
    "    if numero == 5:\n",
    "        break\n",
    "    print(numero)"
   ]
  },
  {
   "cell_type": "markdown",
   "metadata": {},
   "source": [
    "#### 5. Recorre los números del 0 al 9 e imprime solo los números impares."
   ]
  },
  {
   "cell_type": "code",
   "execution_count": 5,
   "metadata": {},
   "outputs": [
    {
     "name": "stdout",
     "output_type": "stream",
     "text": [
      "1\n",
      "3\n",
      "5\n",
      "7\n",
      "9\n"
     ]
    }
   ],
   "source": [
    "# Recorrer los números del 0 al 9 e imprimir solo los números impares\n",
    "for numero in range(10):\n",
    "    if numero % 2 != 0:\n",
    "        print(numero)"
   ]
  },
  {
   "cell_type": "markdown",
   "metadata": {},
   "source": [
    "#### 6. Dada la lista `[10, 20, 30, 40, 50]`, calcula la suma de todos los elementos usando un bucle `for`."
   ]
  },
  {
   "cell_type": "code",
   "execution_count": 6,
   "metadata": {},
   "outputs": [
    {
     "data": {
      "text/plain": [
       "150"
      ]
     },
     "execution_count": 6,
     "metadata": {},
     "output_type": "execute_result"
    }
   ],
   "source": [
    "# Definir la lista\n",
    "numeros = [10, 20, 30, 40, 50]\n",
    "\n",
    "# Inicializar la variable suma\n",
    "suma_total = 0\n",
    "\n",
    "# Calcular la suma de todos los elementos usando un bucle for\n",
    "for numero in numeros:\n",
    "    suma_total += numero\n",
    "\n",
    "# Imprimir la suma total\n",
    "suma_total"
   ]
  },
  {
   "cell_type": "markdown",
   "metadata": {},
   "source": [
    "#### 7. Dada la cadena `\"Hola mundo\"`, cuenta cuántas veces aparecen las vocales (`a`, `e`, `i`, `o`, `u`) usando un bucle `for`.\n"
   ]
  },
  {
   "cell_type": "code",
   "execution_count": 7,
   "metadata": {},
   "outputs": [
    {
     "data": {
      "text/plain": [
       "4"
      ]
     },
     "execution_count": 7,
     "metadata": {},
     "output_type": "execute_result"
    }
   ],
   "source": [
    "# Definir la cadena\n",
    "cadena = \"Hola mundo\"\n",
    "\n",
    "# Inicializar el contador de vocales\n",
    "contador_vocales = 0\n",
    "\n",
    "# Definir las vocales\n",
    "vocales = \"aeiou\"\n",
    "\n",
    "# Contar cuántas veces aparecen las vocales usando un bucle for\n",
    "for letra in cadena.lower():\n",
    "    if letra in vocales:\n",
    "        contador_vocales += 1\n",
    "\n",
    "# Imprimir el total de vocales\n",
    "contador_vocales"
   ]
  },
  {
   "cell_type": "markdown",
   "metadata": {},
   "source": [
    "#### 8. Dada la cadena `\"Python\"`, usa un bucle `for` para imprimir los caracteres en orden inverso (`n`, `o`, `h`, `t`, `y`, `P`).\n"
   ]
  },
  {
   "cell_type": "code",
   "execution_count": 8,
   "metadata": {},
   "outputs": [
    {
     "name": "stdout",
     "output_type": "stream",
     "text": [
      "n\n",
      "o\n",
      "h\n",
      "t\n",
      "y\n",
      "P\n"
     ]
    }
   ],
   "source": [
    "# Definir la cadena\n",
    "cadena = \"Python\"\n",
    "\n",
    "# Usar un bucle for para imprimir los caracteres en orden inverso\n",
    "for letra in reversed(cadena):\n",
    "    print(letra)"
   ]
  },
  {
   "cell_type": "markdown",
   "metadata": {},
   "source": [
    "#### 9. Dada la lista `[1, 2, 3, 4, 5]`, multiplica todos sus elementos usando un bucle `for` y almacena los resultados en una lista nueva. \n"
   ]
  },
  {
   "cell_type": "code",
   "execution_count": 10,
   "metadata": {},
   "outputs": [
    {
     "name": "stdout",
     "output_type": "stream",
     "text": [
      "[1, 4, 9, 16, 25]\n"
     ]
    }
   ],
   "source": [
    "# Definir la lista original\n",
    "lista_original = [1, 2, 3, 4, 5]\n",
    "\n",
    "# Inicializar la lista nueva para almacenar los resultados\n",
    "lista_multiplicada = []\n",
    "\n",
    "# Multiplicar todos los elementos usando un bucle for\n",
    "for numero in lista_original:\n",
    "    lista_multiplicada.append(numero * numero)\n",
    "\n",
    "# Imprimir la lista nueva con los resultados\n",
    "print(lista_multiplicada)"
   ]
  },
  {
   "cell_type": "markdown",
   "metadata": {},
   "source": [
    "#### 10. Dada la lista `[1, 2, 3, 4, 5, 6, 7, 8, 9, 10]`, utiliza un bucle `for` para contar cuántos números son pares y cuántos son impares."
   ]
  },
  {
   "cell_type": "code",
   "execution_count": 11,
   "metadata": {},
   "outputs": [
    {
     "name": "stdout",
     "output_type": "stream",
     "text": [
      "5 5\n"
     ]
    }
   ],
   "source": [
    "# Definir la lista original\n",
    "lista_numeros = [1, 2, 3, 4, 5, 6, 7, 8, 9, 10]\n",
    "\n",
    "# Inicializar los contadores para números pares e impares\n",
    "contador_pares = 0\n",
    "contador_impares = 0\n",
    "\n",
    "# Usar un bucle for para contar números pares e impares\n",
    "for numero in lista_numeros:\n",
    "    if numero % 2 == 0:\n",
    "        contador_pares += 1\n",
    "    else:\n",
    "        contador_impares += 1\n",
    "\n",
    "# Imprimir los resultados\n",
    "print(contador_pares, contador_impares)"
   ]
  },
  {
   "cell_type": "markdown",
   "metadata": {},
   "source": [
    "#### 11. Escribe un programa que solicite al usuario un número entero positivo (`n`) y calcule la suma de todos los números primos menores o iguales a `n`. Utiliza un bucle `for` para iterar sobre cada número y verifica si es primo."
   ]
  },
  {
   "cell_type": "code",
   "execution_count": 11,
   "metadata": {},
   "outputs": [
    {
     "name": "stdout",
     "output_type": "stream",
     "text": [
      "La lista de números primos es: [2, 3, 5, 7]\n",
      "La suma total de números primos es: 17\n"
     ]
    }
   ],
   "source": [
    "n_primo1 = int(input(\"Elige número para sumar a los números primos: \"))\n",
    "suma_num_primos = 0\n",
    "Lista_num_primos = []\n",
    "\n",
    "for i in range(2, n_primo1 + 1):\n",
    "    primos1 = True\n",
    "    for j in range(2, i):  # Este for está correctamente indentado ahora\n",
    "        if i % j == 0:\n",
    "            primos1 = False\n",
    "            break  # Salir del bucle si encontramos un divisor\n",
    "\n",
    "    if primos1:\n",
    "        Lista_num_primos.append(i)\n",
    "        suma_num_primos += i\n",
    "\n",
    "print(\"La lista de números primos es:\", Lista_num_primos)\n",
    "print(\"La suma total de números primos es:\", suma_num_primos)\n"
   ]
  },
  {
   "cell_type": "markdown",
   "metadata": {},
   "source": [
    "#### 12. Escribe un programa que solicite al usuario un número entero positivo (`n`) y luego imprima un patrón de asteriscos como el siguiente ejemplo para `n = 5`:\n",
    "```\n",
    "*\n",
    "**\n",
    "***\n",
    "****\n",
    "*****\n",
    "```\n",
    "Utiliza un bucle `for` anidado para controlar la cantidad de asteriscos en cada línea."
   ]
  },
  {
   "cell_type": "code",
   "execution_count": 12,
   "metadata": {},
   "outputs": [
    {
     "name": "stdout",
     "output_type": "stream",
     "text": [
      "*\n",
      "**\n",
      "***\n",
      "****\n",
      "*****\n",
      "******\n",
      "*******\n",
      "********\n",
      "*********\n"
     ]
    }
   ],
   "source": [
    "# Solicitar al usuario un número entero positivo\n",
    "n = int(input(\"Ingresa un número entero positivo: \"))\n",
    "\n",
    "# Usar un bucle for para imprimir el patrón de asteriscos\n",
    "for i in range(1, n + 1):\n",
    "    for j in range(i):\n",
    "        print(\"*\", end=\"\")\n",
    "    print()  # Salto de línea al final de cada fila"
   ]
  },
  {
   "cell_type": "markdown",
   "metadata": {},
   "source": [
    "#### 13. Dado un texto, utiliza un bucle `for` para contar cuántas veces aparece cada palabra en el texto. Ignora mayúsculas/minúsculas y los signos de puntuación."
   ]
  },
  {
   "cell_type": "code",
   "execution_count": 16,
   "metadata": {},
   "outputs": [
    {
     "name": "stdout",
     "output_type": "stream",
     "text": [
      "'hola': 1 vez/veces\n",
      "'maria': 1 vez/veces\n"
     ]
    }
   ],
   "source": [
    "import string\n",
    "# Solicitar al usuario que ingrese un texto\n",
    "texto = input(\"Ingresa un texto: \")\n",
    "\n",
    "# Convertir el texto a minúsculas y eliminar los signos de puntuación\n",
    "texto = texto.lower().translate(str.maketrans(\"\", \"\", string.punctuation))\n",
    "\n",
    "# Dividir el texto en palabras\n",
    "palabras = texto.split()\n",
    "\n",
    "# Inicializar un diccionario para contar las palabras\n",
    "conteo_palabras = {}\n",
    "\n",
    "# Usar un bucle for para contar cuántas veces aparece cada palabra\n",
    "for palabra in palabras:\n",
    "    if palabra in conteo_palabras:\n",
    "        conteo_palabras[palabra] += 1\n",
    "    else:\n",
    "        conteo_palabras[palabra] = 1\n",
    "\n",
    "# Imprimir el resultado\n",
    "for palabra, conteo in conteo_palabras.items():\n",
    "    print(f\"'{palabra}': {conteo} vez/veces\")\n"
   ]
  },
  {
   "cell_type": "markdown",
   "metadata": {},
   "source": [
    "#### 14. Escribe un programa que solicite al usuario dos números enteros positivos (`inicio` y `fin`, donde `inicio <= fin`) y luego calcule la suma de los números pares y la suma de los números impares en ese rango. Utiliza un bucle `for` para iterar sobre cada número y una estructura `if-else` para clasificar y sumar los números pares e impares."
   ]
  },
  {
   "cell_type": "code",
   "execution_count": 17,
   "metadata": {},
   "outputs": [
    {
     "name": "stdout",
     "output_type": "stream",
     "text": [
      "Suma de los números pares en el rango 8-9: 8\n",
      "Suma de los números impares en el rango 8-9: 9\n"
     ]
    }
   ],
   "source": [
    "# Solicitar al usuario que ingrese dos números enteros positivos\n",
    "inicio = int(input(\"Ingresa el número de inicio (entero positivo): \"))\n",
    "fin = int(input(\"Ingresa el número de fin (entero positivo): \"))\n",
    "\n",
    "# Verificar que inicio sea menor o igual a fin\n",
    "if inicio > fin:\n",
    "    print(\"El número de inicio debe ser menor o igual al número de fin.\")\n",
    "else:\n",
    "    # Inicializar las sumas de pares e impares\n",
    "    suma_pares = 0\n",
    "    suma_impares = 0\n",
    "\n",
    "    # Usar un bucle for para iterar sobre cada número en el rango\n",
    "    for numero in range(inicio, fin + 1):\n",
    "        if numero % 2 == 0:\n",
    "            suma_pares += numero\n",
    "        else:\n",
    "            suma_impares += numero\n",
    "\n",
    "    # Imprimir los resultados\n",
    "    print(f\"Suma de los números pares en el rango {inicio}-{fin}: {suma_pares}\")\n",
    "    print(f\"Suma de los números impares en el rango {inicio}-{fin}: {suma_impares}\")"
   ]
  },
  {
   "cell_type": "markdown",
   "metadata": {},
   "source": [
    "#### 15. Escribe un programa que solicite al usuario un número entero positivo (`n`) y luego identifique todos los números primos menores o iguales a `n`. Para cada número, imprime si es primo o no usando un bucle `for` y una estructura `if-else` para verificar la condición de primalidad."
   ]
  },
  {
   "cell_type": "code",
   "execution_count": 18,
   "metadata": {},
   "outputs": [
    {
     "name": "stdout",
     "output_type": "stream",
     "text": [
      "2 es primo\n",
      "3 es primo\n",
      "4 no es primo\n",
      "5 es primo\n",
      "6 no es primo\n"
     ]
    }
   ],
   "source": [
    "# Función para determinar si un número es primo\n",
    "def es_primo(numero):\n",
    "    if numero < 2:\n",
    "        return False\n",
    "    for i in range(2, int(numero ** 0.5) + 1):\n",
    "        if numero % i == 0:\n",
    "            return False\n",
    "    return True\n",
    "\n",
    "# Solicitar al usuario que ingrese un número entero positivo\n",
    "n = int(input(\"Ingresa un número entero positivo: \"))\n",
    "\n",
    "# Usar un bucle for para verificar y mostrar si cada número hasta n es primo o no\n",
    "for num in range(2, n + 1):\n",
    "    if es_primo(num):\n",
    "        print(f\"{num} es primo\")\n",
    "    else:\n",
    "        print(f\"{num} no es primo\")"
   ]
  },
  {
   "cell_type": "markdown",
   "metadata": {},
   "source": [
    "#### 16.Dada una lista de precios `[100, 200, 300, 400, 500]`, aplica un descuento del 10% a todos los precios mayores a `250`. Imprime la lista actualizada de precios después de aplicar el descuento utilizando un bucle `for`. "
   ]
  },
  {
   "cell_type": "code",
   "execution_count": 19,
   "metadata": {},
   "outputs": [
    {
     "data": {
      "text/plain": [
       "[100, 200, 270.0, 360.0, 450.0]"
      ]
     },
     "execution_count": 19,
     "metadata": {},
     "output_type": "execute_result"
    }
   ],
   "source": [
    "# Definir la lista de precios\n",
    "precios = [100, 200, 300, 400, 500]\n",
    "\n",
    "# Aplicar un descuento del 10% a los precios mayores a 250 usando un bucle for\n",
    "for i in range(len(precios)):\n",
    "    if precios[i] > 250:\n",
    "        precios[i] *= 0.9  # Aplicar el descuento del 10%\n",
    "\n",
    "# Imprimir la lista actualizada de precios\n",
    "precios"
   ]
  },
  {
   "cell_type": "markdown",
   "metadata": {},
   "source": [
    "#### 17. Dada una lista de calificaciones de estudiantes `[85, 92, 78, 90, 88]`, clasifica a cada estudiante como \"Aprobado\" si la calificación es mayor o igual a `80` y como \"Reprobado\" si es menor a `80`. Imprime el nombre de cada estudiante junto con su estado utilizando un bucle `for` y una estructura `if-else`.\n"
   ]
  },
  {
   "cell_type": "code",
   "execution_count": 20,
   "metadata": {},
   "outputs": [
    {
     "name": "stdout",
     "output_type": "stream",
     "text": [
      "Estudiante 1: Aprobado\n",
      "Estudiante 2: Aprobado\n",
      "Estudiante 3: Reprobado\n",
      "Estudiante 4: Aprobado\n",
      "Estudiante 5: Aprobado\n"
     ]
    }
   ],
   "source": [
    "# Definir la lista de calificaciones\n",
    "calificaciones = [85, 92, 78, 90, 88]\n",
    "\n",
    "# Definir una lista de nombres de estudiantes correspondiente a las calificaciones\n",
    "nombres_estudiantes = [\"Estudiante 1\", \"Estudiante 2\", \"Estudiante 3\", \"Estudiante 4\", \"Estudiante 5\"]\n",
    "\n",
    "# Usar un bucle for para clasificar y mostrar el estado de cada estudiante\n",
    "for i in range(len(calificaciones)):\n",
    "    if calificaciones[i] >= 80:\n",
    "        estado = \"Aprobado\"\n",
    "    else:\n",
    "        estado = \"Reprobado\"\n",
    "    print(f\"{nombres_estudiantes[i]}: {estado}\")"
   ]
  },
  {
   "cell_type": "markdown",
   "metadata": {},
   "source": [
    "\n",
    "#### 18. Escribe un programa que solicite al usuario dos números enteros positivos (`inicio`, `fin`) y otro número entero positivo (`divisor`). Encuentra el número más grande en el rango desde `inicio` hasta `fin` que sea divisible por `divisor`. Utiliza un bucle `for` y una estructura `if-else` para verificar y mantener el registro del número más grande divisible por el divisor dado.\n"
   ]
  },
  {
   "cell_type": "markdown",
   "metadata": {},
   "source": []
  },
  {
   "cell_type": "code",
   "execution_count": 21,
   "metadata": {},
   "outputs": [
    {
     "name": "stdout",
     "output_type": "stream",
     "text": [
      "El número más grande en el rango 5-9 que es divisible por 2 es: 8\n"
     ]
    }
   ],
   "source": [
    "# Solicitar al usuario que ingrese los números\n",
    "inicio = int(input(\"Ingresa el número de inicio (entero positivo): \"))\n",
    "fin = int(input(\"Ingresa el número de fin (entero positivo): \"))\n",
    "divisor = int(input(\"Ingresa el divisor (entero positivo): \"))\n",
    "\n",
    "# Inicializar una variable para almacenar el número más grande divisible por el divisor\n",
    "max_divisible = None\n",
    "\n",
    "# Usar un bucle for para iterar sobre el rango y encontrar el número más grande divisible por el divisor\n",
    "for numero in range(fin, inicio - 1, -1):\n",
    "    if numero % divisor == 0:\n",
    "        max_divisible = numero\n",
    "        break  # Salir del bucle una vez encontrado el mayor divisible\n",
    "\n",
    "# Verificar si se encontró un número divisible\n",
    "if max_divisible is not None:\n",
    "    print(f\"El número más grande en el rango {inicio}-{fin} que es divisible por {divisor} es: {max_divisible}\")\n",
    "else:\n",
    "    print(f\"No se encontró ningún número divisible por {divisor} en el rango {inicio}-{fin}.\")"
   ]
  }
 ],
 "metadata": {
  "kernelspec": {
   "display_name": "Python 3",
   "language": "python",
   "name": "python3"
  },
  "language_info": {
   "codemirror_mode": {
    "name": "ipython",
    "version": 3
   },
   "file_extension": ".py",
   "mimetype": "text/x-python",
   "name": "python",
   "nbconvert_exporter": "python",
   "pygments_lexer": "ipython3",
   "version": "3.12.4"
  }
 },
 "nbformat": 4,
 "nbformat_minor": 2
}
