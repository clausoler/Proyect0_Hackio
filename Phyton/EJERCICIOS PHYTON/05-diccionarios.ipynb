{
 "cells": [
  {
   "cell_type": "markdown",
   "metadata": {},
   "source": [
    "<div style=\"text-align: center;\">\n",
    "  <img src=\"https://github.com/Hack-io-Data/Imagenes/blob/main/01-LogosHackio/logo_celeste@4x.png?raw=true\" alt=\"logo hack(io)\" />\n",
    "</div>"
   ]
  },
  {
   "cell_type": "markdown",
   "metadata": {},
   "source": [
    "#### 1. Acceso a valores. Dado el diccionario:\n",
    "\n",
    "```python\n",
    "alumno = {\n",
    "    \"nombre\": \"Laura\",\n",
    "    \"edad\": 22,\n",
    "    \"carrera\": \"Biología\"\n",
    "}\n",
    "```\n",
    "\n",
    "1.1. Accede y muestra el valor asociado con la clave `\"nombre\"`.\n",
    "\n",
    "1.2. Accede y muestra el valor asociado con la clave `\"carrera\"`.\n"
   ]
  },
  {
   "cell_type": "code",
   "execution_count": 2,
   "metadata": {},
   "outputs": [
    {
     "name": "stdout",
     "output_type": "stream",
     "text": [
      "Valor asociado con la clave 'nombre': Laura\n"
     ]
    }
   ],
   "source": [
    "# Definir el diccionario alumno\n",
    "alumno = {\n",
    "    \"nombre\": \"Laura\",\n",
    "    \"edad\": 22,\n",
    "    \"carrera\": \"Biología\"\n",
    "}\n",
    "\n",
    "# Acceder y mostrar el valor asociado con la clave \"nombre\"\n",
    "nombre = alumno[\"nombre\"]\n",
    "\n",
    "# Imprimir el valor\n",
    "print(\"Valor asociado con la clave 'nombre':\", nombre)\n"
   ]
  },
  {
   "cell_type": "code",
   "execution_count": 3,
   "metadata": {},
   "outputs": [
    {
     "name": "stdout",
     "output_type": "stream",
     "text": [
      "Valor asociado con la clave 'carrera': Biología\n"
     ]
    }
   ],
   "source": [
    "# Definir el diccionario alumno\n",
    "alumno = {\n",
    "    \"nombre\": \"Laura\",\n",
    "    \"edad\": 22,\n",
    "    \"carrera\": \"Biología\"\n",
    "}\n",
    "\n",
    "# Acceder y mostrar el valor asociado con la clave \"carrera\"\n",
    "carrera = alumno[\"carrera\"]\n",
    "\n",
    "# Imprimir el valor\n",
    "print(\"Valor asociado con la clave 'carrera':\", carrera)\n"
   ]
  },
  {
   "cell_type": "markdown",
   "metadata": {},
   "source": [
    "#### 2. Actualización de valores. Dado el siguiente diccionario:\n",
    "\n",
    "```python\n",
    "cuenta = {\n",
    "    \"saldo\": 1500,\n",
    "    \"moneda\": \"USD\"\n",
    "}\n",
    "```\n",
    "\n",
    "2.1. Actualiza el valor de la clave `\"saldo\"` a `2000`.\n",
    "\n",
    "2.2. Cambia el valor de `\"moneda\"` a `\"EUR\"`."
   ]
  },
  {
   "cell_type": "code",
   "execution_count": 4,
   "metadata": {},
   "outputs": [
    {
     "name": "stdout",
     "output_type": "stream",
     "text": [
      "Diccionario cuenta actualizado: {'saldo': 2000, 'moneda': 'USD'}\n"
     ]
    }
   ],
   "source": [
    "# Definir el diccionario cuenta\n",
    "cuenta = {\n",
    "    \"saldo\": 1500,\n",
    "    \"moneda\": \"USD\"\n",
    "}\n",
    "\n",
    "# Actualizar el valor de la clave \"saldo\" a 2000\n",
    "cuenta[\"saldo\"] = 2000\n",
    "\n",
    "# Imprimir el diccionario actualizado\n",
    "print(\"Diccionario cuenta actualizado:\", cuenta)\n"
   ]
  },
  {
   "cell_type": "code",
   "execution_count": 5,
   "metadata": {},
   "outputs": [
    {
     "name": "stdout",
     "output_type": "stream",
     "text": [
      "Diccionario cuenta actualizado: {'saldo': 2000, 'moneda': 'EUR'}\n"
     ]
    }
   ],
   "source": [
    "# Actualizar el valor de la clave \"moneda\" a \"EUR\"\n",
    "cuenta[\"moneda\"] = \"EUR\"\n",
    "\n",
    "# Imprimir el diccionario actualizado\n",
    "print(\"Diccionario cuenta actualizado:\", cuenta)\n"
   ]
  },
  {
   "cell_type": "markdown",
   "metadata": {},
   "source": [
    "\n",
    "#### 3. Añadir nuevas claves. Dado el diccionario:\n",
    "\n",
    "```python\n",
    "vehiculo = {\n",
    "    \"marca\": \"Ford\",\n",
    "    \"modelo\": \"Mustang\"\n",
    "}\n",
    "```\n",
    "\n",
    "3.1. Añade una nueva clave `\"año\"` con el valor `2020`.\n",
    "\n",
    "3.2. Añade una nueva clave `\"color\"` con el valor `\"rojo\"`.\n"
   ]
  },
  {
   "cell_type": "code",
   "execution_count": 6,
   "metadata": {},
   "outputs": [
    {
     "name": "stdout",
     "output_type": "stream",
     "text": [
      "Diccionario vehiculo actualizado: {'marca': 'Ford', 'modelo': 'Mustang', 'año': 2020}\n"
     ]
    }
   ],
   "source": [
    "# Definir el diccionario vehiculo\n",
    "vehiculo = {\n",
    "    \"marca\": \"Ford\",\n",
    "    \"modelo\": \"Mustang\"\n",
    "}\n",
    "\n",
    "# Añadir una nueva clave \"año\" con el valor 2020\n",
    "vehiculo[\"año\"] = 2020\n",
    "\n",
    "# Imprimir el diccionario actualizado\n",
    "print(\"Diccionario vehiculo actualizado:\", vehiculo)\n"
   ]
  },
  {
   "cell_type": "code",
   "execution_count": 7,
   "metadata": {},
   "outputs": [
    {
     "name": "stdout",
     "output_type": "stream",
     "text": [
      "Diccionario vehiculo actualizado: {'marca': 'Ford', 'modelo': 'Mustang', 'año': 2020, 'color': 'rojo'}\n"
     ]
    }
   ],
   "source": [
    "# Añadir una nueva clave \"color\" con el valor \"rojo\"\n",
    "vehiculo[\"color\"] = \"rojo\"\n",
    "\n",
    "# Imprimir el diccionario actualizado\n",
    "print(\"Diccionario vehiculo actualizado:\", vehiculo)\n"
   ]
  },
  {
   "cell_type": "markdown",
   "metadata": {},
   "source": [
    "#### 4. Eliminar Claves. Dado el diccionario:\n",
    "\n",
    "```python\n",
    "libro = {\n",
    "    \"título\": \"Cien Años de Soledad\",\n",
    "    \"autor\": \"Gabriel García Márquez\",\n",
    "    \"páginas\": 417\n",
    "}\n",
    "```\n",
    "\n",
    "4.1. Elimina la clave `\"páginas\"`.\n",
    "\n",
    "4.2. Elimina la clave `\"título\"`.\n",
    "\n"
   ]
  },
  {
   "cell_type": "code",
   "execution_count": 8,
   "metadata": {},
   "outputs": [
    {
     "name": "stdout",
     "output_type": "stream",
     "text": [
      "Diccionario libro actualizado: {'título': 'Cien Años de Soledad', 'autor': 'Gabriel García Márquez'}\n"
     ]
    }
   ],
   "source": [
    "# Definir el diccionario libro\n",
    "libro = {\n",
    "    \"título\": \"Cien Años de Soledad\",\n",
    "    \"autor\": \"Gabriel García Márquez\",\n",
    "    \"páginas\": 417\n",
    "}\n",
    "\n",
    "# Eliminar la clave \"páginas\"\n",
    "del libro[\"páginas\"]\n",
    "\n",
    "# Imprimir el diccionario actualizado\n",
    "print(\"Diccionario libro actualizado:\", libro)\n"
   ]
  },
  {
   "cell_type": "code",
   "execution_count": 9,
   "metadata": {},
   "outputs": [
    {
     "name": "stdout",
     "output_type": "stream",
     "text": [
      "Diccionario libro actualizado: {'autor': 'Gabriel García Márquez'}\n"
     ]
    }
   ],
   "source": [
    "# Eliminar la clave \"título\"\n",
    "del libro[\"título\"]\n",
    "\n",
    "# Imprimir el diccionario actualizado\n",
    "print(\"Diccionario libro actualizado:\", libro)\n"
   ]
  },
  {
   "cell_type": "markdown",
   "metadata": {},
   "source": [
    "\n",
    "#### 5. Verificación de Existencia de Claves. Dado el diccionario:\n",
    "\n",
    "```python\n",
    "pelicula = {\n",
    "    \"título\": \"Inception\",\n",
    "    \"director\": \"Christopher Nolan\"\n",
    "}\n",
    "```\n",
    "5.1. Verifica si la clave `\"director\"` existe en el diccionario.\n",
    "\n",
    "5.2. Verifica si la clave `\"año\"` existe en el diccionario.\n"
   ]
  },
  {
   "cell_type": "code",
   "execution_count": 10,
   "metadata": {},
   "outputs": [
    {
     "name": "stdout",
     "output_type": "stream",
     "text": [
      "¿La clave 'director' existe en el diccionario?: True\n"
     ]
    }
   ],
   "source": [
    "# Definir el diccionario pelicula\n",
    "pelicula = {\n",
    "    \"título\": \"Inception\",\n",
    "    \"director\": \"Christopher Nolan\"\n",
    "}\n",
    "\n",
    "# Verificar si la clave \"director\" existe en el diccionario\n",
    "existe_director = \"director\" in pelicula\n",
    "\n",
    "# Imprimir el resultado\n",
    "print(\"¿La clave 'director' existe en el diccionario?:\", existe_director)\n"
   ]
  },
  {
   "cell_type": "code",
   "execution_count": 11,
   "metadata": {},
   "outputs": [
    {
     "name": "stdout",
     "output_type": "stream",
     "text": [
      "¿La clave 'año' existe en el diccionario?: False\n"
     ]
    }
   ],
   "source": [
    "# Verificar si la clave \"año\" existe en el diccionario\n",
    "existe_ano = \"año\" in pelicula\n",
    "\n",
    "# Imprimir el resultado\n",
    "print(\"¿La clave 'año' existe en el diccionario?:\", existe_ano)\n"
   ]
  },
  {
   "cell_type": "markdown",
   "metadata": {},
   "source": [
    "#### 6. Uso del Método `get`. Dado el diccionario:\n",
    "\n",
    "```python\n",
    "ciudad = {\n",
    "    \"nombre\": \"París\",\n",
    "    \"país\": \"Francia\"\n",
    "}\n",
    "```\n",
    "\n",
    "6.1. Usa el método `get` para obtener el valor de la clave `\"nombre\"`.\n",
    "\n",
    "6.2. Usa el método `get` para obtener el valor de la clave `\"población\"` con un valor predeterminado `\"Desconocido\"`.\n"
   ]
  },
  {
   "cell_type": "code",
   "execution_count": 12,
   "metadata": {},
   "outputs": [
    {
     "name": "stdout",
     "output_type": "stream",
     "text": [
      "Valor de la clave 'nombre': París\n"
     ]
    }
   ],
   "source": [
    "# Definir el diccionario ciudad\n",
    "ciudad = {\n",
    "    \"nombre\": \"París\",\n",
    "    \"país\": \"Francia\"\n",
    "}\n",
    "\n",
    "# Usar el método get para obtener el valor de la clave \"nombre\"\n",
    "nombre_ciudad = ciudad.get(\"nombre\")\n",
    "\n",
    "# Imprimir el resultado\n",
    "print(\"Valor de la clave 'nombre':\", nombre_ciudad)\n"
   ]
  },
  {
   "cell_type": "code",
   "execution_count": 13,
   "metadata": {},
   "outputs": [
    {
     "name": "stdout",
     "output_type": "stream",
     "text": [
      "Valor de la clave 'población': Desconocido\n"
     ]
    }
   ],
   "source": [
    "# Usar el método get para obtener el valor de la clave \"población\" con un valor predeterminado\n",
    "poblacion_ciudad = ciudad.get(\"población\", \"Desconocido\")\n",
    "\n",
    "# Imprimir el resultado\n",
    "print(\"Valor de la clave 'población':\", poblacion_ciudad)\n"
   ]
  },
  {
   "cell_type": "markdown",
   "metadata": {},
   "source": [
    "#### 7. Actualización con `update`. Dado el diccionario:\n",
    "\n",
    "```python\n",
    "persona = {\n",
    "    \"nombre\": \"Miguel\",\n",
    "    \"correo\": \"miguel@example.com\"\n",
    "}\n",
    "```\n",
    "\n",
    "7.1. Usa el método `update` para añadir las claves `\"edad\"` con valor `30` y `\"teléfono\"` con valor `\"555-1234\"`.\n",
    "\n",
    "7.2. Cambia el valor de la clave `\"correo\"` usando `update`.\n"
   ]
  },
  {
   "cell_type": "code",
   "execution_count": 14,
   "metadata": {},
   "outputs": [
    {
     "name": "stdout",
     "output_type": "stream",
     "text": [
      "Diccionario persona actualizado: {'nombre': 'Miguel', 'correo': 'miguel@example.com', 'edad': 30, 'teléfono': '555-1234'}\n"
     ]
    }
   ],
   "source": [
    "# Definir el diccionario persona\n",
    "persona = {\n",
    "    \"nombre\": \"Miguel\",\n",
    "    \"correo\": \"miguel@example.com\"\n",
    "}\n",
    "\n",
    "# Usar el método update para añadir las claves \"edad\" y \"teléfono\"\n",
    "persona.update({\"edad\": 30, \"teléfono\": \"555-1234\"})\n",
    "\n",
    "# Imprimir el diccionario actualizado\n",
    "print(\"Diccionario persona actualizado:\", persona)\n"
   ]
  },
  {
   "cell_type": "code",
   "execution_count": 15,
   "metadata": {},
   "outputs": [
    {
     "name": "stdout",
     "output_type": "stream",
     "text": [
      "Diccionario persona actualizado: {'nombre': 'Miguel', 'correo': 'miguel.nuevo@example.com', 'edad': 30, 'teléfono': '555-1234'}\n"
     ]
    }
   ],
   "source": [
    "# Usar el método update para cambiar el valor de la clave \"correo\"\n",
    "persona.update({\"correo\": \"miguel.nuevo@example.com\"})\n",
    "\n",
    "# Imprimir el diccionario actualizado\n",
    "print(\"Diccionario persona actualizado:\", persona)\n"
   ]
  }
 ],
 "metadata": {
  "kernelspec": {
   "display_name": "hackio",
   "language": "python",
   "name": "python3"
  },
  "language_info": {
   "codemirror_mode": {
    "name": "ipython",
    "version": 3
   },
   "file_extension": ".py",
   "mimetype": "text/x-python",
   "name": "python",
   "nbconvert_exporter": "python",
   "pygments_lexer": "ipython3",
   "version": "3.12.4"
  }
 },
 "nbformat": 4,
 "nbformat_minor": 2
}
