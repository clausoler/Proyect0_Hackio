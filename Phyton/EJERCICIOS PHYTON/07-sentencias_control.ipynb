{
 "cells": [
  {
   "cell_type": "markdown",
   "metadata": {},
   "source": [
    "<div style=\"text-align: center;\">\n",
    "  <img src=\"https://github.com/Hack-io-Data/Imagenes/blob/main/01-LogosHackio/logo_celeste@4x.png?raw=true\" alt=\"logo hack(io)\" />\n",
    "</div>"
   ]
  },
  {
   "cell_type": "markdown",
   "metadata": {},
   "source": [
    "#### 1. Escribe un programa que determine si un número es par o impar.\n",
    "\n"
   ]
  },
  {
   "cell_type": "code",
   "execution_count": 4,
   "metadata": {},
   "outputs": [
    {
     "name": "stdout",
     "output_type": "stream",
     "text": [
      "El número 5 es impar.\n"
     ]
    }
   ],
   "source": [
    "# Solicitar al usuario que ingrese un número\n",
    "numero = int(input(\"Ingresa un número: \"))\n",
    "\n",
    "# Determinar si el número es par o impar\n",
    "if numero % 2 == 0:\n",
    "    print(f\"El número {numero} es par.\")\n",
    "else:\n",
    "    print(f\"El número {numero} es impar.\")\n"
   ]
  },
  {
   "cell_type": "markdown",
   "metadata": {},
   "source": [
    "#### 2. Genera un programa que nos diga si es de noche, de día o tarde según la hora proporcionada por el usuario."
   ]
  },
  {
   "cell_type": "code",
   "execution_count": 2,
   "metadata": {},
   "outputs": [
    {
     "name": "stdout",
     "output_type": "stream",
     "text": [
      "Es tarde.\n"
     ]
    }
   ],
   "source": [
    "# Solicitar al usuario que ingrese la hora (en formato 24 horas)\n",
    "hora = int(input(\"Ingresa la hora (0-23): \"))\n",
    "\n",
    "# Determinar si es de día, tarde o noche\n",
    "if 6 <= hora < 12:\n",
    "    print(\"Es de día (mañana).\")\n",
    "elif 12 <= hora < 18:\n",
    "    print(\"Es tarde.\")\n",
    "elif 18 <= hora < 24 or 0 <= hora < 6:\n",
    "    print(\"Es de noche.\")\n",
    "else:\n",
    "    print(\"Hora no válida. Por favor, ingresa un valor entre 0 y 23.\")\n"
   ]
  },
  {
   "cell_type": "markdown",
   "metadata": {},
   "source": [
    "#### 3. Dado un nombre imprime un saludo personalizado."
   ]
  },
  {
   "cell_type": "code",
   "execution_count": 5,
   "metadata": {},
   "outputs": [
    {
     "name": "stdout",
     "output_type": "stream",
     "text": [
      "¡Hola, claudia! Espero que tengas un maravilloso día.\n"
     ]
    }
   ],
   "source": [
    "# Solicitar al usuario que ingrese su nombre\n",
    "nombre = input(\"Ingresa tu nombre: \")\n",
    "\n",
    "# Imprimir un saludo personalizado\n",
    "print(f\"¡Hola, {nombre}! Espero que tengas un maravilloso día.\")\n"
   ]
  },
  {
   "cell_type": "markdown",
   "metadata": {},
   "source": [
    "#### 4. Escribe un programa que determine qué calificación en texto tiene un alumno en base a su calificación numérica. Las reglas de calificación son: \n",
    "\n",
    "- 0 - 69 insuficiente\n",
    "\n",
    "- 70 - 79 bien\n",
    "\n",
    "- 80 - 89 muy bien\n",
    "\n",
    "- 90 - 100 excelente\n"
   ]
  },
  {
   "cell_type": "code",
   "execution_count": 7,
   "metadata": {},
   "outputs": [
    {
     "name": "stdout",
     "output_type": "stream",
     "text": [
      "La calificación en texto es: Bien\n"
     ]
    }
   ],
   "source": [
    "# Solicitar al usuario que ingrese la calificación numérica\n",
    "calificacion = int(input(\"Ingresa la calificación numérica del alumno (0-100): \"))\n",
    "\n",
    "# Determinar la calificación en texto\n",
    "if 0 <= calificacion <= 69:\n",
    "    resultado = \"Insuficiente\"\n",
    "elif 70 <= calificacion <= 79:\n",
    "    resultado = \"Bien\"\n",
    "elif 80 <= calificacion <= 89:\n",
    "    resultado = \"Muy bien\"\n",
    "elif 90 <= calificacion <= 100:\n",
    "    resultado = \"Excelente\"\n",
    "else:\n",
    "    resultado = \"Calificación no válida. Por favor, ingresa un valor entre 0 y 100.\"\n",
    "\n",
    "# Imprimir la calificación en texto\n",
    "print(f\"La calificación en texto es: {resultado}\")\n"
   ]
  },
  {
   "cell_type": "markdown",
   "metadata": {},
   "source": [
    "#### 5. Escribe un programa que imprima el día de la semana, dado un número del 1 al 7.\n"
   ]
  },
  {
   "cell_type": "code",
   "execution_count": 8,
   "metadata": {},
   "outputs": [
    {
     "name": "stdout",
     "output_type": "stream",
     "text": [
      "El día de la semana es: Sábado\n"
     ]
    }
   ],
   "source": [
    "# Solicitar al usuario que ingrese un número del 1 al 7\n",
    "numero_dia = int(input(\"Ingresa un número del 1 al 7: \"))\n",
    "\n",
    "# Determinar el día de la semana\n",
    "if numero_dia == 1:\n",
    "    dia = \"Lunes\"\n",
    "elif numero_dia == 2:\n",
    "    dia = \"Martes\"\n",
    "elif numero_dia == 3:\n",
    "    dia = \"Miércoles\"\n",
    "elif numero_dia == 4:\n",
    "    dia = \"Jueves\"\n",
    "elif numero_dia == 5:\n",
    "    dia = \"Viernes\"\n",
    "elif numero_dia == 6:\n",
    "    dia = \"Sábado\"\n",
    "elif numero_dia == 7:\n",
    "    dia = \"Domingo\"\n",
    "else:\n",
    "    dia = \"Número no válido. Debes ingresar un número entre 1 y 7.\"\n",
    "\n",
    "# Imprimir el día de la semana\n",
    "print(f\"El día de la semana es: {dia}\")\n"
   ]
  },
  {
   "cell_type": "markdown",
   "metadata": {},
   "source": [
    "#### 6. Escribe un programa que determine si un número es positivo, negativo o cero."
   ]
  },
  {
   "cell_type": "code",
   "execution_count": 9,
   "metadata": {},
   "outputs": [
    {
     "name": "stdout",
     "output_type": "stream",
     "text": [
      "El número es cero.\n"
     ]
    }
   ],
   "source": [
    "# Solicitar al usuario que ingrese un número\n",
    "numero = float(input(\"Ingresa un número: \"))\n",
    "\n",
    "# Determinar si el número es positivo, negativo o cero\n",
    "if numero > 0:\n",
    "    print(\"El número es positivo.\")\n",
    "elif numero < 0:\n",
    "    print(\"El número es negativo.\")\n",
    "else:\n",
    "    print(\"El número es cero.\")\n"
   ]
  },
  {
   "cell_type": "markdown",
   "metadata": {},
   "source": [
    "#### 7. Escribe un programa que determine si una persona puede conducir o no. La edad mínima para conducir es 18 años. \n"
   ]
  },
  {
   "cell_type": "code",
   "execution_count": 10,
   "metadata": {},
   "outputs": [
    {
     "name": "stdout",
     "output_type": "stream",
     "text": [
      "Puedes conducir.\n"
     ]
    }
   ],
   "source": [
    "# Solicitar al usuario que ingrese su edad\n",
    "edad = int(input(\"Ingresa tu edad: \"))\n",
    "\n",
    "# Determinar si la persona puede conducir o no\n",
    "if edad >= 18:\n",
    "    print(\"Puedes conducir.\")\n",
    "else:\n",
    "    print(\"No puedes conducir. Debes tener al menos 18 años.\")\n"
   ]
  },
  {
   "cell_type": "markdown",
   "metadata": {},
   "source": [
    "#### 8. Escribe un programa que determine si un estudiante aprobó o suspendió un examen."
   ]
  },
  {
   "cell_type": "code",
   "execution_count": 11,
   "metadata": {},
   "outputs": [
    {
     "name": "stdout",
     "output_type": "stream",
     "text": [
      "Aprobaste el examen.\n"
     ]
    }
   ],
   "source": [
    "# Solicitar al estudiante que ingrese su calificación\n",
    "calificacion = float(input(\"Ingresa tu calificación: \"))\n",
    "\n",
    "# Determinar si el estudiante aprobó o suspendió\n",
    "if calificacion >= 50:\n",
    "    print(\"Aprobaste el examen.\")\n",
    "else:\n",
    "    print(\"Suspendiste el examen.\")\n"
   ]
  },
  {
   "cell_type": "markdown",
   "metadata": {},
   "source": [
    "#### 9. Escribe un programa que determine si un número es múltiplo de 3 y 5.\n"
   ]
  },
  {
   "cell_type": "code",
   "execution_count": 12,
   "metadata": {},
   "outputs": [
    {
     "name": "stdout",
     "output_type": "stream",
     "text": [
      "El número 7 no es múltiplo de 3 y 5.\n"
     ]
    }
   ],
   "source": [
    "# Solicitar al usuario que ingrese un número\n",
    "numero = int(input(\"Ingresa un número: \"))\n",
    "\n",
    "# Determinar si el número es múltiplo de 3 y 5\n",
    "if numero % 3 == 0 and numero % 5 == 0:\n",
    "    print(f\"El número {numero} es múltiplo de 3 y 5.\")\n",
    "else:\n",
    "    print(f\"El número {numero} no es múltiplo de 3 y 5.\")\n"
   ]
  },
  {
   "cell_type": "markdown",
   "metadata": {},
   "source": [
    "#### 10. Escribe un programa que determine si un número es par o impar.\n"
   ]
  },
  {
   "cell_type": "code",
   "execution_count": 13,
   "metadata": {},
   "outputs": [
    {
     "name": "stdout",
     "output_type": "stream",
     "text": [
      "El número 10 es par.\n"
     ]
    }
   ],
   "source": [
    "# Solicitar al usuario que ingrese un número\n",
    "numero = int(input(\"Ingresa un número: \"))\n",
    "\n",
    "# Determinar si el número es par o impar\n",
    "if numero % 2 == 0:\n",
    "    print(f\"El número {numero} es par.\")\n",
    "else:\n",
    "    print(f\"El número {numero} es impar.\")\n"
   ]
  }
 ],
 "metadata": {
  "kernelspec": {
   "display_name": "hackio",
   "language": "python",
   "name": "python3"
  },
  "language_info": {
   "codemirror_mode": {
    "name": "ipython",
    "version": 3
   },
   "file_extension": ".py",
   "mimetype": "text/x-python",
   "name": "python",
   "nbconvert_exporter": "python",
   "pygments_lexer": "ipython3",
   "version": "3.12.4"
  }
 },
 "nbformat": 4,
 "nbformat_minor": 2
}
