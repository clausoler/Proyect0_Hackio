{
 "cells": [
  {
   "cell_type": "markdown",
   "metadata": {},
   "source": [
    "<div style=\"text-align: center;\">\n",
    "  <img src=\"https://github.com/Hack-io-Data/Imagenes/blob/main/01-LogosHackio/logo_celeste@4x.png?raw=true\" alt=\"esquema\" />\n",
    "</div>\n"
   ]
  },
  {
   "cell_type": "markdown",
   "metadata": {},
   "source": [
    "# Comprobación de calidad de contraseñas\n",
    "\n",
    "En este ejercicio, tendrás que generar un programa que sea capaz de comprobar la calidad de contraseñas. La seguridad de nuestras contraseñas es fundamental para proteger nuestra información personal y evitar posibles ataques cibernéticos. Para ello, vamos a crear una función llamada `verificar_seguridad_contrasena` que evaluará la calidad de una contraseña. Esta función tomará como argumento la contraseña a evaluar y devolverá si la contraseña es segura o no basado en los siguientes criterios:\n",
    "\n",
    "1. La contraseña deberá tener al menos 8 caracteres.\n",
    "\n",
    "2. La contraseña deberá tener al menos una letra mayúscula.\n",
    "\n",
    "3. La contraseña deberá tener al menos una letra minúscula. \n",
    "\n",
    "4. La contraseña deberá tener al menos un número. \n",
    "\n",
    "5. La contraseña deberá tener al menos un caracter especial. \n",
    "\n",
    "6. La contraseña no deberá tener espacios en blanco. \n",
    "\n",
    "7. La contraseña no deberá tener caracteres repetidos. \n"
   ]
  },
  {
   "cell_type": "code",
   "execution_count": 1,
   "metadata": {},
   "outputs": [
    {
     "data": {
      "text/plain": [
       "('La contraseña es segura.',\n",
       " 'La contraseña no debe tener caracteres repetidos.',\n",
       " 'La contraseña debe tener al menos un caracter especial.',\n",
       " 'La contraseña no debe tener espacios en blanco.')"
      ]
     },
     "execution_count": 1,
     "metadata": {},
     "output_type": "execute_result"
    }
   ],
   "source": [
    "import re\n",
    "\n",
    "def verificar_seguridad_contrasena(contrasena):\n",
    "    # Verificar que tenga al menos 8 caracteres\n",
    "    if len(contrasena) < 8:\n",
    "        return \"La contraseña debe tener al menos 8 caracteres.\"\n",
    "    \n",
    "    # Verificar que tenga al menos una letra mayúscula\n",
    "    if not re.search(r\"[A-Z]\", contrasena):\n",
    "        return \"La contraseña debe tener al menos una letra mayúscula.\"\n",
    "    \n",
    "    # Verificar que tenga al menos una letra minúscula\n",
    "    if not re.search(r\"[a-z]\", contrasena):\n",
    "        return \"La contraseña debe tener al menos una letra minúscula.\"\n",
    "    \n",
    "    # Verificar que tenga al menos un número\n",
    "    if not re.search(r\"[0-9]\", contrasena):\n",
    "        return \"La contraseña debe tener al menos un número.\"\n",
    "    \n",
    "    # Verificar que tenga al menos un caracter especial\n",
    "    if not re.search(r\"[@$!%*?&]\", contrasena):\n",
    "        return \"La contraseña debe tener al menos un caracter especial.\"\n",
    "    \n",
    "    # Verificar que no tenga espacios en blanco\n",
    "    if re.search(r\"\\s\", contrasena):\n",
    "        return \"La contraseña no debe tener espacios en blanco.\"\n",
    "    \n",
    "    # Verificar que no tenga caracteres repetidos\n",
    "    if len(set(contrasena)) != len(contrasena):\n",
    "        return \"La contraseña no debe tener caracteres repetidos.\"\n",
    "    \n",
    "    return \"La contraseña es segura.\"\n",
    "\n",
    "# Ejemplos de uso\n",
    "ejemplo1 = verificar_seguridad_contrasena(\"Abcdef1@\")\n",
    "ejemplo2 = verificar_seguridad_contrasena(\"Abcdeff1@\")\n",
    "ejemplo3 = verificar_seguridad_contrasena(\"Abcdefg1\")\n",
    "ejemplo4 = verificar_seguridad_contrasena(\"Abcdef1 @\")\n",
    "\n",
    "ejemplo1, ejemplo2, ejemplo3, ejemplo4"
   ]
  }
 ],
 "metadata": {
  "kernelspec": {
   "display_name": "hackio",
   "language": "python",
   "name": "python3"
  },
  "language_info": {
   "codemirror_mode": {
    "name": "ipython",
    "version": 3
   },
   "file_extension": ".py",
   "mimetype": "text/x-python",
   "name": "python",
   "nbconvert_exporter": "python",
   "pygments_lexer": "ipython3",
   "version": "3.12.4"
  }
 },
 "nbformat": 4,
 "nbformat_minor": 2
}
